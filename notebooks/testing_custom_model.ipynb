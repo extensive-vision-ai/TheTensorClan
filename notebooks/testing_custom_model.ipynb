{
 "cells": [
  {
   "cell_type": "code",
   "execution_count": 1,
   "outputs": [],
   "source": [
    "import sys\n",
    "sys.path.insert(0, '../')"
   ],
   "metadata": {
    "collapsed": false,
    "pycharm": {
     "name": "#%%\n"
    }
   }
  },
  {
   "cell_type": "code",
   "execution_count": 2,
   "outputs": [],
   "source": [
    "from typing import Tuple\n",
    "\n",
    "import torch\n",
    "import torch.nn as nn\n",
    "import torch.nn.functional as F\n",
    "from torch.utils.data import Subset\n",
    "from torchvision import datasets\n",
    "\n",
    "import albumentations as A\n",
    "import albumentations.pytorch.transforms as AT\n",
    "\n",
    "import tensorclan\n",
    "import tensorclan.dataset as tcd\n",
    "import tensorclan.model as tcm\n",
    "import tensorclan.dataset as tcd\n",
    "import tensorclan.dataset.augmentation as tca\n",
    "import tensorclan.utils as tc_utils\n",
    "import tensorclan.runner as tc_runner"
   ],
   "metadata": {
    "collapsed": false,
    "pycharm": {
     "name": "#%%\n"
    }
   }
  },
  {
   "cell_type": "code",
   "execution_count": 3,
   "outputs": [
    {
     "name": "stdout",
     "output_type": "stream",
     "text": [
      "Overwriting custom_model.yaml\n"
     ]
    }
   ],
   "source": [
    "%%writefile custom_model.yaml\n",
    "\n",
    "name: TTC_EXAMPLE\n",
    "log_dir: logs\n",
    "chkpt_dir: checkpoint\n",
    "use_checkpoints: false\n",
    "\n",
    "device: GPU\n",
    "\n",
    "model:\n",
    "    name: Net\n",
    "\n",
    "dataset:\n",
    "    name: MNISTV2\n",
    "    transforms: MNISTTransformsV2\n",
    "    root: data\n",
    "    loader_args:\n",
    "        batch_size: 128\n",
    "        num_workers: 2\n",
    "        shuffle: True\n",
    "        pin_memory: True\n",
    "\n",
    "loss: CrossEntropyLoss\n",
    "\n",
    "optimizer:\n",
    "    type: SGD\n",
    "    args:\n",
    "        lr: 0.01\n",
    "        momentum: 0.95\n",
    "\n",
    "training:\n",
    "    epochs: 5"
   ],
   "metadata": {
    "collapsed": false,
    "pycharm": {
     "name": "#%%\n"
    }
   }
  },
  {
   "cell_type": "code",
   "execution_count": 4,
   "metadata": {
    "collapsed": true,
    "pycharm": {
     "name": "#%%\n"
    }
   },
   "outputs": [
    {
     "name": "stdout",
     "output_type": "stream",
     "text": [
      "[ 2020-07-31 12:24:18,176 - tensorclan.model.model ] INFO: Registered Net as model\n",
      "[ 2020-07-31 12:24:18,178 - tensorclan.dataset.dataset ] INFO: Registered MNISTV2 as dataset\n",
      "[ 2020-07-31 12:24:18,179 - tensorclan.dataset.augmentation.augmentation ] INFO: Registered MNISTTransformsV2 as augmentation\n"
     ]
    }
   ],
   "source": [
    "@tcm.model\n",
    "class Net(nn.Module):\n",
    "    def __init__(self):\n",
    "        super(Net, self).__init__()\n",
    "        self.conv1 = nn.Conv2d(1, 10, kernel_size=5)\n",
    "        self.conv2 = nn.Conv2d(10, 20, kernel_size=5)\n",
    "        self.conv2_drop = nn.Dropout2d()\n",
    "        self.fc1 = nn.Linear(320, 50)\n",
    "        self.fc2 = nn.Linear(50, 10)\n",
    "\n",
    "    def forward(self, x):\n",
    "        x = F.relu(F.max_pool2d(self.conv1(x), 2))\n",
    "        x = F.relu(F.max_pool2d(self.conv2_drop(self.conv2(x)), 2))\n",
    "        x = x.view(-1, 320)\n",
    "        x = F.relu(self.fc1(x))\n",
    "        x = F.dropout(x, training=self.training)\n",
    "        x = self.fc2(x)\n",
    "        return x\n",
    "\n",
    "@tcd.dataset\n",
    "class MNISTV2(tcd.BaseDataset):\n",
    "    test_set: datasets.MNIST\n",
    "    train_set: datasets.MNIST\n",
    "\n",
    "    def __init__(self, root: str, transforms: tca.BaseAugmentation):\n",
    "        self.data_dir = root\n",
    "\n",
    "        self.train_set = datasets.MNIST(\n",
    "            self.data_dir,\n",
    "            train=True,\n",
    "            download=True,\n",
    "            transform=transforms.build_transforms(train=True),\n",
    "        )\n",
    "\n",
    "        self.test_set = datasets.MNIST(\n",
    "            self.data_dir,\n",
    "            train=False,\n",
    "            download=True,\n",
    "            transform=transforms.build_transforms(train=False)\n",
    "        )\n",
    "\n",
    "    def split_dataset(self):\n",
    "        return Subset(self.train_set, indices=range(0, len(self.train_set))), Subset(self.test_set, indices=range(0, len(self.test_set)))\n",
    "\n",
    "    @staticmethod\n",
    "    def plot_sample(sample):\n",
    "        pass\n",
    "\n",
    "@tca.augmentation\n",
    "class MNISTTransformsV2(tca.BaseAugmentation):\n",
    "\n",
    "    mean: Tuple[float] = (0.1307,)\n",
    "    std: Tuple[float] = (0.3081,)\n",
    "\n",
    "    def build_train(self):\n",
    "        train_transforms = A.Compose([\n",
    "            A.Normalize(mean=self.mean, std=self.std),\n",
    "            AT.ToTensor()\n",
    "        ])\n",
    "        return train_transforms\n",
    "\n",
    "    def build_test(self):\n",
    "        test_transforms = A.Compose([\n",
    "            A.Normalize(mean=self.mean, std=self.std),\n",
    "            AT.ToTensor()\n",
    "        ])\n",
    "\n",
    "        return test_transforms"
   ]
  },
  {
   "cell_type": "code",
   "execution_count": 5,
   "outputs": [],
   "source": [
    "config = tc_utils.load_config('custom_model.yaml')"
   ],
   "metadata": {
    "collapsed": false,
    "pycharm": {
     "name": "#%%\n"
    }
   }
  },
  {
   "cell_type": "code",
   "execution_count": 6,
   "outputs": [
    {
     "name": "stdout",
     "output_type": "stream",
     "text": [
      "[ 2020-07-31 12:24:20,971 - tensorclan.runner.runner ] INFO: => Now simply setup_train and then start_train your model\n"
     ]
    }
   ],
   "source": [
    "runner = tc_runner.Runner(config=config)\n"
   ],
   "metadata": {
    "collapsed": false,
    "pycharm": {
     "name": "#%%\n"
    }
   }
  },
  {
   "cell_type": "code",
   "execution_count": 7,
   "outputs": [
    {
     "name": "stdout",
     "output_type": "stream",
     "text": [
      "[ 2020-07-31 12:24:22,659 - tensorclan.runner.runner ] INFO: => Config\n",
      "[ 2020-07-31 12:24:22,663 - tensorclan.runner.runner ] INFO: {'chkpt_dir': 'checkpoint',\n",
      "[ 2020-07-31 12:24:22,665 - tensorclan.runner.runner ] INFO:  'dataset': {'loader_args': {'batch_size': 128,\n",
      "[ 2020-07-31 12:24:22,667 - tensorclan.runner.runner ] INFO:                              'num_workers': 2,\n",
      "[ 2020-07-31 12:24:22,669 - tensorclan.runner.runner ] INFO:                              'pin_memory': True,\n",
      "[ 2020-07-31 12:24:22,671 - tensorclan.runner.runner ] INFO:                              'shuffle': True},\n",
      "[ 2020-07-31 12:24:22,673 - tensorclan.runner.runner ] INFO:              'name': 'MNISTV2',\n",
      "[ 2020-07-31 12:24:22,674 - tensorclan.runner.runner ] INFO:              'root': 'data',\n",
      "[ 2020-07-31 12:24:22,675 - tensorclan.runner.runner ] INFO:              'transforms': 'MNISTTransformsV2'},\n",
      "[ 2020-07-31 12:24:22,677 - tensorclan.runner.runner ] INFO:  'device': 'GPU',\n",
      "[ 2020-07-31 12:24:22,678 - tensorclan.runner.runner ] INFO:  'log_dir': 'logs',\n",
      "[ 2020-07-31 12:24:22,681 - tensorclan.runner.runner ] INFO:  'loss': 'CrossEntropyLoss',\n",
      "[ 2020-07-31 12:24:22,684 - tensorclan.runner.runner ] INFO:  'model': {'name': 'Net'},\n",
      "[ 2020-07-31 12:24:22,685 - tensorclan.runner.runner ] INFO:  'name': 'TTC_EXAMPLE',\n",
      "[ 2020-07-31 12:24:22,687 - tensorclan.runner.runner ] INFO:  'optimizer': {'args': {'lr': 0.01, 'momentum': 0.95}, 'type': 'SGD'},\n",
      "[ 2020-07-31 12:24:22,688 - tensorclan.runner.runner ] INFO:  'training': {'epochs': 5},\n",
      "[ 2020-07-31 12:24:22,689 - tensorclan.runner.runner ] INFO:  'use_checkpoints': False}\n",
      "[ 2020-07-31 12:24:22,699 - tensorclan.dataset.augmentation.augmentation ] INFO: Building User Augmentation <class '__main__.MNISTTransformsV2'>.MNISTTransformsV2\n",
      "[ 2020-07-31 12:24:22,700 - tensorclan.dataset.dataset ] INFO: Building User Dataset <class '__main__.MNISTV2'>.MNISTV2\n",
      "[ 2020-07-31 12:24:22,743 - tensorclan.model.model ] INFO: Building User Model <class '__main__.Net'>.Net\n",
      "[ 2020-07-31 12:24:22,746 - tensorclan.utils.config ] INFO: Building torch.optim.SGD\n",
      "[ 2020-07-31 12:24:22,747 - tensorclan.utils.config ] INFO: Building torch.nn.CrossEntropyLoss\n",
      "[ 2020-07-31 12:24:22,748 - tensorclan.utils.config ] INFO: Building tensorclan.trainer.GPUTrainer\n",
      "[ 2020-07-31 12:24:22,751 - tensorclan.utils.config ] INFO: Building torch.utils.data.DataLoader\n",
      "[ 2020-07-31 12:24:22,752 - tensorclan.utils.config ] INFO: Building torch.utils.data.DataLoader\n"
     ]
    }
   ],
   "source": [
    "runner.setup_train()"
   ],
   "metadata": {
    "collapsed": false,
    "pycharm": {
     "name": "#%%\n"
    }
   }
  },
  {
   "cell_type": "code",
   "execution_count": 8,
   "outputs": [
    {
     "name": "stdout",
     "output_type": "stream",
     "text": [
      "[ 2020-07-31 12:24:31,615 - tensorclan.trainer.gpu_trainer ] INFO: => Training Started\n",
      "[ 2020-07-31 12:24:31,617 - tensorclan.trainer.gpu_trainer ] INFO: Training the model for 5 epochs\n",
      "[ 2020-07-31 12:24:31,619 - tensorclan.trainer.gpu_trainer ] INFO: => Training Epoch 0\n",
      "[ 2020-07-31 12:24:35,707 - tensorclan.trainer.gpu_trainer ] INFO: loss: 0.6630898202215431, accuracy: 78.05666666666667\n",
      "[ 2020-07-31 12:24:35,708 - tensorclan.trainer.gpu_trainer ] INFO: => Testing Epoch 0\n",
      "[ 2020-07-31 12:24:36,446 - tensorclan.trainer.gpu_trainer ] INFO: loss: 0.10670972257098064 accuracy: 96.72\n",
      "[ 2020-07-31 12:24:36,448 - tensorclan.trainer.gpu_trainer ] INFO: \n",
      "\n",
      "[ 2020-07-31 12:24:36,449 - tensorclan.trainer.gpu_trainer ] INFO: => Training Epoch 1\n",
      "[ 2020-07-31 12:24:40,388 - tensorclan.trainer.gpu_trainer ] INFO: loss: 0.2715205023251871, accuracy: 91.99333333333334\n",
      "[ 2020-07-31 12:24:40,389 - tensorclan.trainer.gpu_trainer ] INFO: => Testing Epoch 1\n",
      "[ 2020-07-31 12:24:41,125 - tensorclan.trainer.gpu_trainer ] INFO: loss: 0.07900356178325188 accuracy: 97.24\n",
      "[ 2020-07-31 12:24:41,127 - tensorclan.trainer.gpu_trainer ] INFO: \n",
      "\n",
      "[ 2020-07-31 12:24:41,127 - tensorclan.trainer.gpu_trainer ] INFO: => Training Epoch 2\n",
      "[ 2020-07-31 12:24:45,076 - tensorclan.trainer.gpu_trainer ] INFO: loss: 0.23055030135457705, accuracy: 93.31333333333333\n",
      "[ 2020-07-31 12:24:45,077 - tensorclan.trainer.gpu_trainer ] INFO: => Testing Epoch 2\n",
      "[ 2020-07-31 12:24:45,831 - tensorclan.trainer.gpu_trainer ] INFO: loss: 0.07412055589824537 accuracy: 97.83\n",
      "[ 2020-07-31 12:24:45,833 - tensorclan.trainer.gpu_trainer ] INFO: \n",
      "\n",
      "[ 2020-07-31 12:24:45,834 - tensorclan.trainer.gpu_trainer ] INFO: => Training Epoch 3\n",
      "[ 2020-07-31 12:24:49,896 - tensorclan.trainer.gpu_trainer ] INFO: loss: 0.2035698790365318, accuracy: 93.85833333333333\n",
      "[ 2020-07-31 12:24:49,897 - tensorclan.trainer.gpu_trainer ] INFO: => Testing Epoch 3\n",
      "[ 2020-07-31 12:24:50,661 - tensorclan.trainer.gpu_trainer ] INFO: loss: 0.062432750729443154 accuracy: 97.97\n",
      "[ 2020-07-31 12:24:50,663 - tensorclan.trainer.gpu_trainer ] INFO: \n",
      "\n",
      "[ 2020-07-31 12:24:50,663 - tensorclan.trainer.gpu_trainer ] INFO: => Training Epoch 4\n",
      "[ 2020-07-31 12:24:54,980 - tensorclan.trainer.gpu_trainer ] INFO: loss: 0.185038525261668, accuracy: 94.535\n",
      "[ 2020-07-31 12:24:54,981 - tensorclan.trainer.gpu_trainer ] INFO: => Testing Epoch 4\n",
      "[ 2020-07-31 12:24:55,746 - tensorclan.trainer.gpu_trainer ] INFO: loss: 0.06166581118691571 accuracy: 98.16\n",
      "[ 2020-07-31 12:24:55,748 - tensorclan.trainer.gpu_trainer ] INFO: \n",
      "\n"
     ]
    }
   ],
   "source": [
    "runner.start_train()"
   ],
   "metadata": {
    "collapsed": false,
    "pycharm": {
     "name": "#%%\n"
    }
   }
  },
  {
   "cell_type": "code",
   "execution_count": 8,
   "outputs": [],
   "source": [
    "\n"
   ],
   "metadata": {
    "collapsed": false,
    "pycharm": {
     "name": "#%%\n"
    }
   }
  }
 ],
 "metadata": {
  "kernelspec": {
   "name": "pycharm-1b12d3ba",
   "language": "python",
   "display_name": "PyCharm (TheTensorClan)"
  },
  "language_info": {
   "codemirror_mode": {
    "name": "ipython",
    "version": 2
   },
   "file_extension": ".py",
   "mimetype": "text/x-python",
   "name": "python",
   "nbconvert_exporter": "python",
   "pygments_lexer": "ipython2",
   "version": "2.7.6"
  }
 },
 "nbformat": 4,
 "nbformat_minor": 0
}