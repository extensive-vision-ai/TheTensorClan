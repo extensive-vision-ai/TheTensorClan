{
 "cells": [
  {
   "cell_type": "code",
   "execution_count": 9,
   "outputs": [],
   "source": [
    "import sys\n",
    "sys.path.insert(0, '../')"
   ],
   "metadata": {
    "collapsed": false,
    "pycharm": {
     "name": "#%%\n"
    }
   }
  },
  {
   "cell_type": "code",
   "execution_count": 10,
   "outputs": [],
   "source": [
    "from typing import Tuple\n",
    "\n",
    "import torch\n",
    "import torch.nn as nn\n",
    "import torch.nn.functional as F\n",
    "from torch.utils.data import Subset\n",
    "from torchvision import datasets\n",
    "\n",
    "import albumentations as A\n",
    "import albumentations.pytorch.transforms as AT\n",
    "\n",
    "import tensorclan\n",
    "import tensorclan.dataset as tcd\n",
    "import tensorclan.model as tcm\n",
    "import tensorclan.dataset as tcd\n",
    "import tensorclan.dataset.augmentation as tca\n",
    "import tensorclan.utils as tc_utils\n",
    "import tensorclan.runner as tc_runner"
   ],
   "metadata": {
    "collapsed": false,
    "pycharm": {
     "name": "#%%\n"
    }
   }
  },
  {
   "cell_type": "code",
   "execution_count": 11,
   "outputs": [
    {
     "name": "stdout",
     "output_type": "stream",
     "text": [
      "Overwriting custom_model.yaml\n"
     ]
    }
   ],
   "source": [
    "%%writefile custom_model.yaml\n",
    "\n",
    "name: TTC_EXAMPLE\n",
    "log_dir: logs\n",
    "chkpt_dir: checkpoint\n",
    "use_checkpoints: true\n",
    "\n",
    "device: GPU\n",
    "\n",
    "model:\n",
    "    name: Net\n",
    "\n",
    "dataset:\n",
    "    name: MNISTV2\n",
    "    transforms: MNISTTransformsV2\n",
    "    args:\n",
    "        root: data\n",
    "    loader_args:\n",
    "        batch_size: 128\n",
    "        num_workers: 2\n",
    "        shuffle: True\n",
    "        pin_memory: True\n",
    "\n",
    "loss: CrossEntropyLoss\n",
    "\n",
    "optimizer:\n",
    "    type: SGD\n",
    "    args:\n",
    "        lr: 0.01\n",
    "        momentum: 0.95\n",
    "\n",
    "training:\n",
    "    epochs: 5"
   ],
   "metadata": {
    "collapsed": false,
    "pycharm": {
     "name": "#%%\n"
    }
   }
  },
  {
   "cell_type": "code",
   "execution_count": 12,
   "metadata": {
    "collapsed": true,
    "pycharm": {
     "name": "#%%\n"
    }
   },
   "outputs": [
    {
     "name": "stdout",
     "output_type": "stream",
     "text": [
      "[ 2020-07-31 14:45:45,509 - tensorclan.model.model ] INFO: Registered Net as model\n",
      "[ 2020-07-31 14:45:45,513 - tensorclan.dataset.dataset ] INFO: Registered MNISTV2 as dataset\n",
      "[ 2020-07-31 14:45:45,516 - tensorclan.dataset.augmentation.augmentation ] INFO: Registered MNISTTransformsV2 as augmentation\n"
     ]
    }
   ],
   "source": [
    "@tcm.model\n",
    "class Net(nn.Module):\n",
    "    def __init__(self):\n",
    "        super(Net, self).__init__()\n",
    "        self.conv1 = nn.Conv2d(1, 10, kernel_size=5)\n",
    "        self.conv2 = nn.Conv2d(10, 20, kernel_size=5)\n",
    "        self.conv2_drop = nn.Dropout2d()\n",
    "        self.fc1 = nn.Linear(320, 50)\n",
    "        self.fc2 = nn.Linear(50, 10)\n",
    "\n",
    "    def forward(self, x):\n",
    "        x = F.relu(F.max_pool2d(self.conv1(x), 2))\n",
    "        x = F.relu(F.max_pool2d(self.conv2_drop(self.conv2(x)), 2))\n",
    "        x = x.view(-1, 320)\n",
    "        x = F.relu(self.fc1(x))\n",
    "        x = F.dropout(x, training=self.training)\n",
    "        x = self.fc2(x)\n",
    "        return x\n",
    "\n",
    "@tcd.dataset\n",
    "class MNISTV2(tcd.BaseDataset):\n",
    "    test_set: datasets.MNIST\n",
    "    train_set: datasets.MNIST\n",
    "\n",
    "    def __init__(self, root: str, transforms=None):\n",
    "        self.data_dir = root\n",
    "        self.transforms = transforms\n",
    "\n",
    "    @staticmethod\n",
    "    def split_dataset(dataset, transforms):\n",
    "\n",
    "        train_set = datasets.MNIST(\n",
    "            dataset.data_dir,\n",
    "            train=True,\n",
    "            download=True,\n",
    "            transform=transforms.build_transforms(train=True),\n",
    "        )\n",
    "\n",
    "        test_set = datasets.MNIST(\n",
    "            dataset.data_dir,\n",
    "            train=False,\n",
    "            download=True,\n",
    "            transform=transforms.build_transforms(train=False)\n",
    "        )\n",
    "        return Subset(train_set, indices=range(0, len(train_set))), Subset(test_set, indices=range(0, len(test_set)))\n",
    "\n",
    "    @staticmethod\n",
    "    def plot_sample(sample):\n",
    "        pass\n",
    "\n",
    "\n",
    "@tca.augmentation\n",
    "class MNISTTransformsV2(tca.BaseAugmentation):\n",
    "\n",
    "    mean: Tuple[float] = (0.1307,)\n",
    "    std: Tuple[float] = (0.3081,)\n",
    "\n",
    "    def build_train(self):\n",
    "        train_transforms = A.Compose([\n",
    "            A.Normalize(mean=self.mean, std=self.std),\n",
    "            AT.ToTensor(),\n",
    "            A.Lambda(image=lambda x, **kwargs: x.unsqueeze(0), always_apply=True)\n",
    "        ])\n",
    "        return train_transforms\n",
    "\n",
    "    def build_test(self):\n",
    "        test_transforms = A.Compose([\n",
    "            A.Normalize(mean=self.mean, std=self.std),\n",
    "            AT.ToTensor(),\n",
    "            A.Lambda(image=lambda x, **kwargs: x.unsqueeze(0), always_apply=True)\n",
    "        ])\n",
    "\n",
    "        return test_transforms"
   ]
  },
  {
   "cell_type": "code",
   "execution_count": 13,
   "outputs": [],
   "source": [
    "config = tc_utils.load_config('custom_model.yaml')"
   ],
   "metadata": {
    "collapsed": false,
    "pycharm": {
     "name": "#%%\n"
    }
   }
  },
  {
   "cell_type": "code",
   "execution_count": 14,
   "outputs": [
    {
     "name": "stdout",
     "output_type": "stream",
     "text": [
      "[ 2020-07-31 14:45:45,939 - tensorclan.runner.runner ] INFO: => Now simply setup_train and then start_train your model\n"
     ]
    }
   ],
   "source": [
    "runner = tc_runner.Runner(config=config)\n"
   ],
   "metadata": {
    "collapsed": false,
    "pycharm": {
     "name": "#%%\n"
    }
   }
  },
  {
   "cell_type": "code",
   "execution_count": 15,
   "outputs": [
    {
     "name": "stdout",
     "output_type": "stream",
     "text": [
      "[ 2020-07-31 14:45:46,156 - tensorclan.runner.runner ] INFO: => Config\n",
      "[ 2020-07-31 14:45:46,158 - tensorclan.runner.runner ] INFO: {'chkpt_dir': 'checkpoint',\n",
      "[ 2020-07-31 14:45:46,160 - tensorclan.runner.runner ] INFO:  'dataset': {'args': {'root': 'data'},\n",
      "[ 2020-07-31 14:45:46,160 - tensorclan.runner.runner ] INFO:              'loader_args': {'batch_size': 128,\n",
      "[ 2020-07-31 14:45:46,161 - tensorclan.runner.runner ] INFO:                              'num_workers': 2,\n",
      "[ 2020-07-31 14:45:46,162 - tensorclan.runner.runner ] INFO:                              'pin_memory': True,\n",
      "[ 2020-07-31 14:45:46,162 - tensorclan.runner.runner ] INFO:                              'shuffle': True},\n",
      "[ 2020-07-31 14:45:46,163 - tensorclan.runner.runner ] INFO:              'name': 'MNISTV2',\n",
      "[ 2020-07-31 14:45:46,163 - tensorclan.runner.runner ] INFO:              'transforms': 'MNISTTransformsV2'},\n",
      "[ 2020-07-31 14:45:46,164 - tensorclan.runner.runner ] INFO:  'device': 'GPU',\n",
      "[ 2020-07-31 14:45:46,165 - tensorclan.runner.runner ] INFO:  'log_dir': 'logs',\n",
      "[ 2020-07-31 14:45:46,165 - tensorclan.runner.runner ] INFO:  'loss': 'CrossEntropyLoss',\n",
      "[ 2020-07-31 14:45:46,166 - tensorclan.runner.runner ] INFO:  'model': {'name': 'Net'},\n",
      "[ 2020-07-31 14:45:46,166 - tensorclan.runner.runner ] INFO:  'name': 'TTC_EXAMPLE',\n",
      "[ 2020-07-31 14:45:46,167 - tensorclan.runner.runner ] INFO:  'optimizer': {'args': {'lr': 0.01, 'momentum': 0.95}, 'type': 'SGD'},\n",
      "[ 2020-07-31 14:45:46,168 - tensorclan.runner.runner ] INFO:  'training': {'epochs': 5},\n",
      "[ 2020-07-31 14:45:46,168 - tensorclan.runner.runner ] INFO:  'use_checkpoints': True}\n",
      "[ 2020-07-31 14:45:46,169 - tensorclan.dataset.augmentation.augmentation ] INFO: Building User Augmentation <class '__main__.MNISTTransformsV2'>.MNISTTransformsV2\n",
      "[ 2020-07-31 14:45:46,169 - tensorclan.dataset.dataset ] INFO: Building User Dataset <class '__main__.MNISTV2'>.MNISTV2\n",
      "[ 2020-07-31 14:45:46,170 - tensorclan.dataset.dataset ] INFO: Building User Dataset <class '__main__.MNISTV2'>.MNISTV2\n",
      "[ 2020-07-31 14:45:46,200 - tensorclan.runner.runner ] INFO: => Found subset.pt loading indices\n",
      "[ 2020-07-31 14:45:46,201 - tensorclan.model.model ] INFO: Building User Model <class '__main__.Net'>.Net\n",
      "[ 2020-07-31 14:45:46,203 - tensorclan.utils.config ] INFO: Building torch.optim.SGD\n",
      "[ 2020-07-31 14:45:46,203 - tensorclan.utils.config ] INFO: Building torch.nn.CrossEntropyLoss\n",
      "[ 2020-07-31 14:45:46,204 - tensorclan.runner.runner ] INFO: => No saved checkpoints found\n",
      "[ 2020-07-31 14:45:46,204 - tensorclan.utils.config ] INFO: Building tensorclan.trainer.GPUTrainer\n",
      "[ 2020-07-31 14:45:46,206 - tensorclan.utils.config ] INFO: Building torch.utils.data.DataLoader\n",
      "[ 2020-07-31 14:45:46,206 - tensorclan.utils.config ] INFO: Building torch.utils.data.DataLoader\n"
     ]
    },
    {
     "name": "stderr",
     "output_type": "stream",
     "text": [
      "/home/shadowleaf/anaconda3/envs/tensorclan/lib/python3.8/site-packages/albumentations/augmentations/transforms.py:2963: UserWarning: Using lambda is incompatible with multiprocessing. Consider using regular functions or partial().\n",
      "  warnings.warn(\n"
     ]
    }
   ],
   "source": [
    "runner.setup_train()"
   ],
   "metadata": {
    "collapsed": false,
    "pycharm": {
     "name": "#%%\n"
    }
   }
  },
  {
   "cell_type": "code",
   "execution_count": 16,
   "outputs": [
    {
     "name": "stdout",
     "output_type": "stream",
     "text": [
      "[ 2020-07-31 14:45:46,373 - tensorclan.trainer.gpu_trainer ] INFO: => Training Started\n",
      "[ 2020-07-31 14:45:46,374 - tensorclan.trainer.gpu_trainer ] INFO: Training the model for 5 epochs\n",
      "[ 2020-07-31 14:45:46,376 - tensorclan.trainer.gpu_trainer ] INFO: => Training Epoch 0\n",
      "[ 2020-07-31 14:45:50,971 - tensorclan.trainer.gpu_trainer ] INFO: loss: 0.6470249544328718, accuracy: 78.68666666666667\n",
      "[ 2020-07-31 14:45:50,972 - tensorclan.trainer.gpu_trainer ] INFO: => Testing Epoch 0\n",
      "[ 2020-07-31 14:45:51,782 - tensorclan.trainer.gpu_trainer ] INFO: loss: 0.11179903673031662 accuracy: 96.68\n",
      "[ 2020-07-31 14:45:51,783 - tensorclan.trainer.gpu_trainer ] INFO: => Accuracy improved, saving best checkpoint ...\n",
      "[ 2020-07-31 14:45:51,788 - tensorclan.trainer.gpu_trainer ] INFO: => Saving checkpoint ...\n",
      "[ 2020-07-31 14:45:51,791 - tensorclan.trainer.gpu_trainer ] INFO: \n",
      "\n",
      "[ 2020-07-31 14:45:51,792 - tensorclan.trainer.gpu_trainer ] INFO: => Training Epoch 1\n",
      "[ 2020-07-31 14:45:56,275 - tensorclan.trainer.gpu_trainer ] INFO: loss: 0.2760519774706125, accuracy: 91.93833333333333\n",
      "[ 2020-07-31 14:45:56,277 - tensorclan.trainer.gpu_trainer ] INFO: => Testing Epoch 1\n",
      "[ 2020-07-31 14:45:57,110 - tensorclan.trainer.gpu_trainer ] INFO: loss: 0.07406824544260773 accuracy: 97.69\n",
      "[ 2020-07-31 14:45:57,112 - tensorclan.trainer.gpu_trainer ] INFO: => Accuracy improved, saving best checkpoint ...\n",
      "[ 2020-07-31 14:45:57,117 - tensorclan.trainer.gpu_trainer ] INFO: => Saving checkpoint ...\n",
      "[ 2020-07-31 14:45:57,121 - tensorclan.trainer.gpu_trainer ] INFO: \n",
      "\n",
      "[ 2020-07-31 14:45:57,122 - tensorclan.trainer.gpu_trainer ] INFO: => Training Epoch 2\n",
      "[ 2020-07-31 14:46:01,603 - tensorclan.trainer.gpu_trainer ] INFO: loss: 0.2236747637009824, accuracy: 93.35666666666667\n",
      "[ 2020-07-31 14:46:01,604 - tensorclan.trainer.gpu_trainer ] INFO: => Testing Epoch 2\n",
      "[ 2020-07-31 14:46:02,489 - tensorclan.trainer.gpu_trainer ] INFO: loss: 0.06598909689655787 accuracy: 98.05\n",
      "[ 2020-07-31 14:46:02,491 - tensorclan.trainer.gpu_trainer ] INFO: => Accuracy improved, saving best checkpoint ...\n",
      "[ 2020-07-31 14:46:02,495 - tensorclan.trainer.gpu_trainer ] INFO: => Saving checkpoint ...\n",
      "[ 2020-07-31 14:46:02,500 - tensorclan.trainer.gpu_trainer ] INFO: \n",
      "\n",
      "[ 2020-07-31 14:46:02,501 - tensorclan.trainer.gpu_trainer ] INFO: => Training Epoch 3\n",
      "[ 2020-07-31 14:46:06,901 - tensorclan.trainer.gpu_trainer ] INFO: loss: 0.19538157264878755, accuracy: 94.27833333333334\n",
      "[ 2020-07-31 14:46:06,902 - tensorclan.trainer.gpu_trainer ] INFO: => Testing Epoch 3\n",
      "[ 2020-07-31 14:46:07,748 - tensorclan.trainer.gpu_trainer ] INFO: loss: 0.057989705872686606 accuracy: 98.34\n",
      "[ 2020-07-31 14:46:07,749 - tensorclan.trainer.gpu_trainer ] INFO: => Accuracy improved, saving best checkpoint ...\n",
      "[ 2020-07-31 14:46:07,754 - tensorclan.trainer.gpu_trainer ] INFO: => Saving checkpoint ...\n",
      "[ 2020-07-31 14:46:07,758 - tensorclan.trainer.gpu_trainer ] INFO: \n",
      "\n",
      "[ 2020-07-31 14:46:07,758 - tensorclan.trainer.gpu_trainer ] INFO: => Training Epoch 4\n",
      "[ 2020-07-31 14:46:12,144 - tensorclan.trainer.gpu_trainer ] INFO: loss: 0.18430333129410295, accuracy: 94.47666666666667\n",
      "[ 2020-07-31 14:46:12,145 - tensorclan.trainer.gpu_trainer ] INFO: => Testing Epoch 4\n",
      "[ 2020-07-31 14:46:12,995 - tensorclan.trainer.gpu_trainer ] INFO: loss: 0.048924043208737916 accuracy: 98.49\n",
      "[ 2020-07-31 14:46:12,997 - tensorclan.trainer.gpu_trainer ] INFO: => Accuracy improved, saving best checkpoint ...\n",
      "[ 2020-07-31 14:46:13,003 - tensorclan.trainer.gpu_trainer ] INFO: => Saving checkpoint ...\n",
      "[ 2020-07-31 14:46:13,007 - tensorclan.trainer.gpu_trainer ] INFO: \n",
      "\n"
     ]
    }
   ],
   "source": [
    "runner.start_train()"
   ],
   "metadata": {
    "collapsed": false,
    "pycharm": {
     "name": "#%%\n"
    }
   }
  },
  {
   "cell_type": "code",
   "execution_count": 16,
   "outputs": [],
   "source": [],
   "metadata": {
    "collapsed": false,
    "pycharm": {
     "name": "#%%\n"
    }
   }
  }
 ],
 "metadata": {
  "kernelspec": {
   "name": "pycharm-1b12d3ba",
   "language": "python",
   "display_name": "PyCharm (TheTensorClan)"
  },
  "language_info": {
   "codemirror_mode": {
    "name": "ipython",
    "version": 2
   },
   "file_extension": ".py",
   "mimetype": "text/x-python",
   "name": "python",
   "nbconvert_exporter": "python",
   "pygments_lexer": "ipython2",
   "version": "2.7.6"
  }
 },
 "nbformat": 4,
 "nbformat_minor": 0
}