{
 "cells": [
  {
   "cell_type": "code",
   "execution_count": 1,
   "outputs": [],
   "source": [
    "import sys\n",
    "sys.path.insert(0, '../')"
   ],
   "metadata": {
    "collapsed": false,
    "pycharm": {
     "name": "#%%\n"
    }
   }
  },
  {
   "cell_type": "code",
   "execution_count": 2,
   "outputs": [],
   "source": [
    "import torch\n",
    "import torch.nn as nn\n",
    "import torch.nn.functional as F\n",
    "import tensorclan\n",
    "import tensorclan.dataset as tcd\n",
    "import tensorclan.model as tcm\n",
    "import tensorclan.utils as tc_utils\n",
    "import tensorclan.runner as tc_runner"
   ],
   "metadata": {
    "collapsed": false,
    "pycharm": {
     "name": "#%%\n"
    }
   }
  },
  {
   "cell_type": "code",
   "execution_count": 3,
   "outputs": [
    {
     "name": "stdout",
     "output_type": "stream",
     "text": [
      "Overwriting custom_model.yaml\n"
     ]
    }
   ],
   "source": [
    "%%writefile custom_model.yaml\n",
    "\n",
    "name: TTC_EXAMPLE\n",
    "log_dir: logs\n",
    "chkpt_dir: checkpoint\n",
    "use_checkpoints: false\n",
    "\n",
    "device: GPU\n",
    "\n",
    "model:\n",
    "    name: Net\n",
    "\n",
    "dataset:\n",
    "    name: MNIST\n",
    "    transforms: MNISTTransforms\n",
    "    root: data\n",
    "    loader_args:\n",
    "        batch_size: 128\n",
    "        num_workers: 2\n",
    "        shuffle: True\n",
    "        pin_memory: True\n",
    "\n",
    "loss: CrossEntropyLoss\n",
    "\n",
    "optimizer:\n",
    "    type: SGD\n",
    "    args:\n",
    "        lr: 0.01\n",
    "        momentum: 0.95\n",
    "\n",
    "training:\n",
    "    epochs: 10"
   ],
   "metadata": {
    "collapsed": false,
    "pycharm": {
     "name": "#%%\n"
    }
   }
  },
  {
   "cell_type": "code",
   "execution_count": 4,
   "metadata": {
    "collapsed": true,
    "pycharm": {
     "name": "#%%\n"
    }
   },
   "outputs": [
    {
     "name": "stdout",
     "output_type": "stream",
     "text": [
      "[ 2020-07-25 15:18:50,464 - tensorclan.model.model ] INFO: Registered Net as model\n"
     ]
    }
   ],
   "source": [
    "@tcm.model\n",
    "class Net(nn.Module):\n",
    "    def __init__(self):\n",
    "        super(Net, self).__init__()\n",
    "        self.conv1 = nn.Conv2d(1, 10, kernel_size=5)\n",
    "        self.conv2 = nn.Conv2d(10, 20, kernel_size=5)\n",
    "        self.conv2_drop = nn.Dropout2d()\n",
    "        self.fc1 = nn.Linear(320, 50)\n",
    "        self.fc2 = nn.Linear(50, 10)\n",
    "\n",
    "    def forward(self, x):\n",
    "        x = F.relu(F.max_pool2d(self.conv1(x), 2))\n",
    "        x = F.relu(F.max_pool2d(self.conv2_drop(self.conv2(x)), 2))\n",
    "        x = x.view(-1, 320)\n",
    "        x = F.relu(self.fc1(x))\n",
    "        x = F.dropout(x, training=self.training)\n",
    "        x = self.fc2(x)\n",
    "        return x"
   ]
  },
  {
   "cell_type": "code",
   "execution_count": 5,
   "outputs": [],
   "source": [
    "config = tc_utils.load_config('custom_model.yaml')"
   ],
   "metadata": {
    "collapsed": false,
    "pycharm": {
     "name": "#%%\n"
    }
   }
  },
  {
   "cell_type": "code",
   "execution_count": 6,
   "outputs": [
    {
     "name": "stdout",
     "output_type": "stream",
     "text": [
      "[ 2020-07-25 15:18:50,504 - tensorclan.runner.runner ] INFO: => Now simply setup_train and then start_train your model\n"
     ]
    }
   ],
   "source": [
    "runner = tc_runner.Runner(config=config)\n"
   ],
   "metadata": {
    "collapsed": false,
    "pycharm": {
     "name": "#%%\n"
    }
   }
  },
  {
   "cell_type": "code",
   "execution_count": 7,
   "outputs": [
    {
     "name": "stdout",
     "output_type": "stream",
     "text": [
      "[ 2020-07-25 15:18:50,520 - tensorclan.runner.runner ] INFO: => Config\n",
      "[ 2020-07-25 15:18:50,521 - tensorclan.runner.runner ] INFO: {'chkpt_dir': 'checkpoint',\n",
      "[ 2020-07-25 15:18:50,521 - tensorclan.runner.runner ] INFO:  'dataset': {'loader_args': {'batch_size': 128,\n",
      "[ 2020-07-25 15:18:50,521 - tensorclan.runner.runner ] INFO:                              'num_workers': 2,\n",
      "[ 2020-07-25 15:18:50,522 - tensorclan.runner.runner ] INFO:                              'pin_memory': True,\n",
      "[ 2020-07-25 15:18:50,522 - tensorclan.runner.runner ] INFO:                              'shuffle': True},\n",
      "[ 2020-07-25 15:18:50,522 - tensorclan.runner.runner ] INFO:              'name': 'MNIST',\n",
      "[ 2020-07-25 15:18:50,523 - tensorclan.runner.runner ] INFO:              'root': 'data',\n",
      "[ 2020-07-25 15:18:50,523 - tensorclan.runner.runner ] INFO:              'transforms': 'MNISTTransforms'},\n",
      "[ 2020-07-25 15:18:50,523 - tensorclan.runner.runner ] INFO:  'device': 'GPU',\n",
      "[ 2020-07-25 15:18:50,523 - tensorclan.runner.runner ] INFO:  'log_dir': 'logs',\n",
      "[ 2020-07-25 15:18:50,524 - tensorclan.runner.runner ] INFO:  'loss': 'CrossEntropyLoss',\n",
      "[ 2020-07-25 15:18:50,524 - tensorclan.runner.runner ] INFO:  'model': {'name': 'Net'},\n",
      "[ 2020-07-25 15:18:50,524 - tensorclan.runner.runner ] INFO:  'name': 'TTC_EXAMPLE',\n",
      "[ 2020-07-25 15:18:50,525 - tensorclan.runner.runner ] INFO:  'optimizer': {'args': {'lr': 0.01, 'momentum': 0.95}, 'type': 'SGD'},\n",
      "[ 2020-07-25 15:18:50,525 - tensorclan.runner.runner ] INFO:  'training': {'epochs': 10},\n",
      "[ 2020-07-25 15:18:50,525 - tensorclan.runner.runner ] INFO:  'use_checkpoints': False}\n",
      "[ 2020-07-25 15:18:50,525 - tensorclan.utils.config ] INFO: Building tensorclan.dataset.augmentation.MNISTTransforms\n",
      "[ 2020-07-25 15:18:50,526 - tensorclan.dataset.dataset ] INFO: Building tensorclan.dataset.zoo.MNIST\n",
      "[ 2020-07-25 15:18:50,553 - tensorclan.model.model ] INFO: Building User Model <class '__main__.Net'>.Net\n",
      "[ 2020-07-25 15:18:50,555 - tensorclan.utils.config ] INFO: Building torch.optim.SGD\n",
      "[ 2020-07-25 15:18:50,556 - tensorclan.utils.config ] INFO: Building torch.nn.CrossEntropyLoss\n",
      "[ 2020-07-25 15:18:50,556 - tensorclan.utils.config ] INFO: Building tensorclan.trainer.GPUTrainer\n",
      "[ 2020-07-25 15:18:50,558 - tensorclan.utils.config ] INFO: Building torch.utils.data.DataLoader\n",
      "[ 2020-07-25 15:18:50,559 - tensorclan.utils.config ] INFO: Building torch.utils.data.DataLoader\n"
     ]
    }
   ],
   "source": [
    "runner.setup_train()"
   ],
   "metadata": {
    "collapsed": false,
    "pycharm": {
     "name": "#%%\n"
    }
   }
  },
  {
   "cell_type": "code",
   "execution_count": 8,
   "outputs": [
    {
     "name": "stdout",
     "output_type": "stream",
     "text": [
      "[ 2020-07-25 15:18:52,072 - tensorclan.trainer.gpu_trainer ] INFO: => Training Started\n",
      "[ 2020-07-25 15:18:52,073 - tensorclan.trainer.gpu_trainer ] INFO: Training the model for 10 epochs\n",
      "[ 2020-07-25 15:18:52,074 - tensorclan.trainer.gpu_trainer ] INFO: => Training Epoch 0\n",
      "[ 2020-07-25 15:18:56,277 - tensorclan.trainer.gpu_trainer ] INFO: loss: 0.6926954992290245, accuracy: 77.08333333333333\n",
      "[ 2020-07-25 15:18:56,278 - tensorclan.trainer.gpu_trainer ] INFO: => Testing Epoch 0\n",
      "[ 2020-07-25 15:18:56,996 - tensorclan.trainer.gpu_trainer ] INFO: loss: 0.10924185086277467 accuracy: 96.67\n",
      "[ 2020-07-25 15:18:56,998 - tensorclan.trainer.gpu_trainer ] INFO: => Training Epoch 1\n",
      "[ 2020-07-25 15:19:00,853 - tensorclan.trainer.gpu_trainer ] INFO: loss: 0.27480914462794626, accuracy: 91.89\n",
      "[ 2020-07-25 15:19:00,854 - tensorclan.trainer.gpu_trainer ] INFO: => Testing Epoch 1\n",
      "[ 2020-07-25 15:19:01,558 - tensorclan.trainer.gpu_trainer ] INFO: loss: 0.07733765697177453 accuracy: 97.58\n",
      "[ 2020-07-25 15:19:01,560 - tensorclan.trainer.gpu_trainer ] INFO: => Training Epoch 2\n",
      "[ 2020-07-25 15:19:05,366 - tensorclan.trainer.gpu_trainer ] INFO: loss: 0.22185581803385382, accuracy: 93.28\n",
      "[ 2020-07-25 15:19:05,367 - tensorclan.trainer.gpu_trainer ] INFO: => Testing Epoch 2\n",
      "[ 2020-07-25 15:19:06,041 - tensorclan.trainer.gpu_trainer ] INFO: loss: 0.06058836893378934 accuracy: 98.3\n",
      "[ 2020-07-25 15:19:06,042 - tensorclan.trainer.gpu_trainer ] INFO: => Training Epoch 3\n",
      "[ 2020-07-25 15:19:09,865 - tensorclan.trainer.gpu_trainer ] INFO: loss: 0.2004706447185484, accuracy: 94.00666666666666\n",
      "[ 2020-07-25 15:19:09,866 - tensorclan.trainer.gpu_trainer ] INFO: => Testing Epoch 3\n",
      "[ 2020-07-25 15:19:10,559 - tensorclan.trainer.gpu_trainer ] INFO: loss: 0.055875644983747336 accuracy: 98.32\n",
      "[ 2020-07-25 15:19:10,562 - tensorclan.trainer.gpu_trainer ] INFO: => Training Epoch 4\n",
      "[ 2020-07-25 15:19:14,516 - tensorclan.trainer.gpu_trainer ] INFO: loss: 0.18235014035884758, accuracy: 94.72666666666667\n",
      "[ 2020-07-25 15:19:14,517 - tensorclan.trainer.gpu_trainer ] INFO: => Testing Epoch 4\n",
      "[ 2020-07-25 15:19:15,254 - tensorclan.trainer.gpu_trainer ] INFO: loss: 0.04671662482374077 accuracy: 98.61\n",
      "[ 2020-07-25 15:19:15,256 - tensorclan.trainer.gpu_trainer ] INFO: => Training Epoch 5\n",
      "[ 2020-07-25 15:19:19,154 - tensorclan.trainer.gpu_trainer ] INFO: loss: 0.17289654266383095, accuracy: 94.86833333333334\n",
      "[ 2020-07-25 15:19:19,155 - tensorclan.trainer.gpu_trainer ] INFO: => Testing Epoch 5\n",
      "[ 2020-07-25 15:19:19,939 - tensorclan.trainer.gpu_trainer ] INFO: loss: 0.049159883792641794 accuracy: 98.46\n",
      "[ 2020-07-25 15:19:19,941 - tensorclan.trainer.gpu_trainer ] INFO: => Training Epoch 6\n",
      "[ 2020-07-25 15:19:24,173 - tensorclan.trainer.gpu_trainer ] INFO: loss: 0.16473832674848754, accuracy: 95.19666666666667\n",
      "[ 2020-07-25 15:19:24,175 - tensorclan.trainer.gpu_trainer ] INFO: => Testing Epoch 6\n",
      "[ 2020-07-25 15:19:24,909 - tensorclan.trainer.gpu_trainer ] INFO: loss: 0.0418851850672236 accuracy: 98.7\n",
      "[ 2020-07-25 15:19:24,911 - tensorclan.trainer.gpu_trainer ] INFO: => Training Epoch 7\n",
      "[ 2020-07-25 15:19:28,886 - tensorclan.trainer.gpu_trainer ] INFO: loss: 0.14982960145992003, accuracy: 95.62166666666667\n",
      "[ 2020-07-25 15:19:28,888 - tensorclan.trainer.gpu_trainer ] INFO: => Testing Epoch 7\n",
      "[ 2020-07-25 15:19:29,639 - tensorclan.trainer.gpu_trainer ] INFO: loss: 0.04436603516245945 accuracy: 98.65\n",
      "[ 2020-07-25 15:19:29,641 - tensorclan.trainer.gpu_trainer ] INFO: => Training Epoch 8\n",
      "[ 2020-07-25 15:19:33,906 - tensorclan.trainer.gpu_trainer ] INFO: loss: 0.15156196811591893, accuracy: 95.59\n",
      "[ 2020-07-25 15:19:33,907 - tensorclan.trainer.gpu_trainer ] INFO: => Testing Epoch 8\n",
      "[ 2020-07-25 15:19:34,625 - tensorclan.trainer.gpu_trainer ] INFO: loss: 0.04243198204549808 accuracy: 98.71\n",
      "[ 2020-07-25 15:19:34,626 - tensorclan.trainer.gpu_trainer ] INFO: => Training Epoch 9\n",
      "[ 2020-07-25 15:19:38,578 - tensorclan.trainer.gpu_trainer ] INFO: loss: 0.15224630451564597, accuracy: 95.53166666666667\n",
      "[ 2020-07-25 15:19:38,579 - tensorclan.trainer.gpu_trainer ] INFO: => Testing Epoch 9\n",
      "[ 2020-07-25 15:19:39,292 - tensorclan.trainer.gpu_trainer ] INFO: loss: 0.04087240168754058 accuracy: 98.74\n"
     ]
    }
   ],
   "source": [
    "runner.start_train()"
   ],
   "metadata": {
    "collapsed": false,
    "pycharm": {
     "name": "#%%\n"
    }
   }
  },
  {
   "cell_type": "code",
   "execution_count": 8,
   "outputs": [],
   "source": [
    "\n"
   ],
   "metadata": {
    "collapsed": false,
    "pycharm": {
     "name": "#%%\n"
    }
   }
  }
 ],
 "metadata": {
  "kernelspec": {
   "name": "pycharm-1b12d3ba",
   "language": "python",
   "display_name": "PyCharm (TheTensorClan)"
  },
  "language_info": {
   "codemirror_mode": {
    "name": "ipython",
    "version": 2
   },
   "file_extension": ".py",
   "mimetype": "text/x-python",
   "name": "python",
   "nbconvert_exporter": "python",
   "pygments_lexer": "ipython2",
   "version": "2.7.6"
  }
 },
 "nbformat": 4,
 "nbformat_minor": 0
}