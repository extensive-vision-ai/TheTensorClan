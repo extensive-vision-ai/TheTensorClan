{
 "cells": [
  {
   "cell_type": "code",
   "execution_count": 17,
   "outputs": [],
   "source": [
    "import sys\n",
    "sys.path.insert(0, '../')"
   ],
   "metadata": {
    "collapsed": false,
    "pycharm": {
     "name": "#%%\n"
    }
   }
  },
  {
   "cell_type": "code",
   "execution_count": 18,
   "outputs": [],
   "source": [
    "from typing import Tuple\n",
    "\n",
    "import torch\n",
    "import torch.nn as nn\n",
    "import torch.nn.functional as F\n",
    "from torch.utils.data import Subset\n",
    "from torchvision import datasets\n",
    "\n",
    "import albumentations as A\n",
    "import albumentations.pytorch.transforms as AT\n",
    "\n",
    "import tensorclan\n",
    "import tensorclan.dataset as tcd\n",
    "import tensorclan.model as tcm\n",
    "import tensorclan.dataset as tcd\n",
    "import tensorclan.dataset.augmentation as tca\n",
    "import tensorclan.utils as tc_utils\n",
    "import tensorclan.runner as tc_runner"
   ],
   "metadata": {
    "collapsed": false,
    "pycharm": {
     "name": "#%%\n"
    }
   }
  },
  {
   "cell_type": "code",
   "execution_count": 19,
   "outputs": [
    {
     "name": "stdout",
     "output_type": "stream",
     "text": [
      "Overwriting custom_model.yaml\n"
     ]
    }
   ],
   "source": [
    "%%writefile custom_model.yaml\n",
    "\n",
    "name: TTC_EXAMPLE\n",
    "log_dir: logs\n",
    "chkpt_dir: checkpoint\n",
    "use_checkpoints: true\n",
    "\n",
    "device: GPU\n",
    "\n",
    "model:\n",
    "    name: Net\n",
    "\n",
    "dataset:\n",
    "    name: MNISTV2\n",
    "    transforms: MNISTTransformsV2\n",
    "    args:\n",
    "        root: data\n",
    "    loader_args:\n",
    "        batch_size: 128\n",
    "        num_workers: 2\n",
    "        shuffle: True\n",
    "        pin_memory: True\n",
    "\n",
    "loss: CrossEntropyLoss\n",
    "\n",
    "optimizer:\n",
    "    type: SGD\n",
    "    args:\n",
    "        lr: 0.01\n",
    "        momentum: 0.95\n",
    "\n",
    "training:\n",
    "    epochs: 5"
   ],
   "metadata": {
    "collapsed": false,
    "pycharm": {
     "name": "#%%\n"
    }
   }
  },
  {
   "cell_type": "code",
   "execution_count": 20,
   "metadata": {
    "collapsed": true,
    "pycharm": {
     "name": "#%%\n"
    }
   },
   "outputs": [
    {
     "name": "stdout",
     "output_type": "stream",
     "text": [
      "[ 2020-07-31 14:21:21,887 - tensorclan.model.model ] INFO: Registered Net as model\n",
      "[ 2020-07-31 14:21:21,888 - tensorclan.dataset.dataset ] INFO: Registered MNISTV2 as dataset\n",
      "[ 2020-07-31 14:21:21,890 - tensorclan.dataset.augmentation.augmentation ] INFO: Registered MNISTTransformsV2 as augmentation\n"
     ]
    }
   ],
   "source": [
    "@tcm.model\n",
    "class Net(nn.Module):\n",
    "    def __init__(self):\n",
    "        super(Net, self).__init__()\n",
    "        self.conv1 = nn.Conv2d(1, 10, kernel_size=5)\n",
    "        self.conv2 = nn.Conv2d(10, 20, kernel_size=5)\n",
    "        self.conv2_drop = nn.Dropout2d()\n",
    "        self.fc1 = nn.Linear(320, 50)\n",
    "        self.fc2 = nn.Linear(50, 10)\n",
    "\n",
    "    def forward(self, x):\n",
    "        x = F.relu(F.max_pool2d(self.conv1(x), 2))\n",
    "        x = F.relu(F.max_pool2d(self.conv2_drop(self.conv2(x)), 2))\n",
    "        x = x.view(-1, 320)\n",
    "        x = F.relu(self.fc1(x))\n",
    "        x = F.dropout(x, training=self.training)\n",
    "        x = self.fc2(x)\n",
    "        return x\n",
    "\n",
    "@tcd.dataset\n",
    "class MNISTV2(tcd.BaseDataset):\n",
    "    test_set: datasets.MNIST\n",
    "    train_set: datasets.MNIST\n",
    "\n",
    "    def __init__(self, root: str, transforms=None):\n",
    "        self.data_dir = root\n",
    "        self.transforms = transforms\n",
    "\n",
    "    @staticmethod\n",
    "    def split_dataset(dataset, transforms):\n",
    "\n",
    "        train_set = datasets.MNIST(\n",
    "            dataset.data_dir,\n",
    "            train=True,\n",
    "            download=True,\n",
    "            transform=transforms.build_transforms(train=True),\n",
    "        )\n",
    "\n",
    "        test_set = datasets.MNIST(\n",
    "            dataset.data_dir,\n",
    "            train=False,\n",
    "            download=True,\n",
    "            transform=transforms.build_transforms(train=False)\n",
    "        )\n",
    "        return Subset(train_set, indices=range(0, len(train_set))), Subset(test_set, indices=range(0, len(test_set)))\n",
    "\n",
    "    @staticmethod\n",
    "    def plot_sample(sample):\n",
    "        pass\n",
    "\n",
    "\n",
    "@tca.augmentation\n",
    "class MNISTTransformsV2(tca.BaseAugmentation):\n",
    "\n",
    "    mean: Tuple[float] = (0.1307,)\n",
    "    std: Tuple[float] = (0.3081,)\n",
    "\n",
    "    def build_train(self):\n",
    "        train_transforms = A.Compose([\n",
    "            A.Normalize(mean=self.mean, std=self.std),\n",
    "            AT.ToTensor()\n",
    "        ])\n",
    "        return train_transforms\n",
    "\n",
    "    def build_test(self):\n",
    "        test_transforms = A.Compose([\n",
    "            A.Normalize(mean=self.mean, std=self.std),\n",
    "            AT.ToTensor()\n",
    "        ])\n",
    "\n",
    "        return test_transforms"
   ]
  },
  {
   "cell_type": "code",
   "execution_count": 21,
   "outputs": [],
   "source": [
    "config = tc_utils.load_config('custom_model.yaml')"
   ],
   "metadata": {
    "collapsed": false,
    "pycharm": {
     "name": "#%%\n"
    }
   }
  },
  {
   "cell_type": "code",
   "execution_count": 22,
   "outputs": [
    {
     "name": "stdout",
     "output_type": "stream",
     "text": [
      "[ 2020-07-31 14:21:21,958 - tensorclan.runner.runner ] INFO: => Now simply setup_train and then start_train your model\n"
     ]
    }
   ],
   "source": [
    "runner = tc_runner.Runner(config=config)\n"
   ],
   "metadata": {
    "collapsed": false,
    "pycharm": {
     "name": "#%%\n"
    }
   }
  },
  {
   "cell_type": "code",
   "execution_count": 23,
   "outputs": [
    {
     "name": "stdout",
     "output_type": "stream",
     "text": [
      "[ 2020-07-31 14:21:22,017 - tensorclan.runner.runner ] INFO: => Config\n",
      "[ 2020-07-31 14:21:22,019 - tensorclan.runner.runner ] INFO: {'chkpt_dir': 'checkpoint',\n",
      "[ 2020-07-31 14:21:22,021 - tensorclan.runner.runner ] INFO:  'dataset': {'args': {'root': 'data'},\n",
      "[ 2020-07-31 14:21:22,023 - tensorclan.runner.runner ] INFO:              'loader_args': {'batch_size': 128,\n",
      "[ 2020-07-31 14:21:22,024 - tensorclan.runner.runner ] INFO:                              'num_workers': 2,\n",
      "[ 2020-07-31 14:21:22,026 - tensorclan.runner.runner ] INFO:                              'pin_memory': True,\n",
      "[ 2020-07-31 14:21:22,028 - tensorclan.runner.runner ] INFO:                              'shuffle': True},\n",
      "[ 2020-07-31 14:21:22,029 - tensorclan.runner.runner ] INFO:              'name': 'MNISTV2',\n",
      "[ 2020-07-31 14:21:22,030 - tensorclan.runner.runner ] INFO:              'transforms': 'MNISTTransformsV2'},\n",
      "[ 2020-07-31 14:21:22,032 - tensorclan.runner.runner ] INFO:  'device': 'GPU',\n",
      "[ 2020-07-31 14:21:22,033 - tensorclan.runner.runner ] INFO:  'log_dir': 'logs',\n",
      "[ 2020-07-31 14:21:22,035 - tensorclan.runner.runner ] INFO:  'loss': 'CrossEntropyLoss',\n",
      "[ 2020-07-31 14:21:22,036 - tensorclan.runner.runner ] INFO:  'model': {'name': 'Net'},\n",
      "[ 2020-07-31 14:21:22,041 - tensorclan.runner.runner ] INFO:  'name': 'TTC_EXAMPLE',\n",
      "[ 2020-07-31 14:21:22,042 - tensorclan.runner.runner ] INFO:  'optimizer': {'args': {'lr': 0.01, 'momentum': 0.95}, 'type': 'SGD'},\n",
      "[ 2020-07-31 14:21:22,044 - tensorclan.runner.runner ] INFO:  'training': {'epochs': 5},\n",
      "[ 2020-07-31 14:21:22,045 - tensorclan.runner.runner ] INFO:  'use_checkpoints': True}\n",
      "[ 2020-07-31 14:21:22,047 - tensorclan.dataset.augmentation.augmentation ] INFO: Building User Augmentation <class '__main__.MNISTTransformsV2'>.MNISTTransformsV2\n",
      "[ 2020-07-31 14:21:22,048 - tensorclan.dataset.dataset ] INFO: Building User Dataset <class '__main__.MNISTV2'>.MNISTV2\n",
      "[ 2020-07-31 14:21:22,049 - tensorclan.dataset.dataset ] INFO: Building User Dataset <class '__main__.MNISTV2'>.MNISTV2\n",
      "[ 2020-07-31 14:21:22,094 - tensorclan.runner.runner ] INFO: => Saved subset.pt (train, test indices)\n",
      "[ 2020-07-31 14:21:22,095 - tensorclan.model.model ] INFO: Building User Model <class '__main__.Net'>.Net\n",
      "[ 2020-07-31 14:21:22,097 - tensorclan.utils.config ] INFO: Building torch.optim.SGD\n",
      "[ 2020-07-31 14:21:22,098 - tensorclan.utils.config ] INFO: Building torch.nn.CrossEntropyLoss\n",
      "[ 2020-07-31 14:21:22,099 - tensorclan.runner.runner ] INFO: => No saved checkpoints found\n",
      "[ 2020-07-31 14:21:22,100 - tensorclan.utils.config ] INFO: Building tensorclan.trainer.GPUTrainer\n",
      "[ 2020-07-31 14:21:22,103 - tensorclan.utils.config ] INFO: Building torch.utils.data.DataLoader\n",
      "[ 2020-07-31 14:21:22,104 - tensorclan.utils.config ] INFO: Building torch.utils.data.DataLoader\n"
     ]
    }
   ],
   "source": [
    "runner.setup_train()"
   ],
   "metadata": {
    "collapsed": false,
    "pycharm": {
     "name": "#%%\n"
    }
   }
  },
  {
   "cell_type": "code",
   "execution_count": 24,
   "outputs": [
    {
     "name": "stdout",
     "output_type": "stream",
     "text": [
      "[ 2020-07-31 14:21:22,113 - tensorclan.trainer.gpu_trainer ] INFO: => Training Started\n",
      "[ 2020-07-31 14:21:22,115 - tensorclan.trainer.gpu_trainer ] INFO: Training the model for 5 epochs\n",
      "[ 2020-07-31 14:21:22,115 - tensorclan.trainer.gpu_trainer ] INFO: => Training Epoch 0\n",
      "[ 2020-07-31 14:21:26,290 - tensorclan.trainer.gpu_trainer ] INFO: loss: 0.6750475881514011, accuracy: 77.665\n",
      "[ 2020-07-31 14:21:26,291 - tensorclan.trainer.gpu_trainer ] INFO: => Testing Epoch 0\n",
      "[ 2020-07-31 14:21:27,078 - tensorclan.trainer.gpu_trainer ] INFO: loss: 0.10571440865721883 accuracy: 96.65\n",
      "[ 2020-07-31 14:21:27,081 - tensorclan.trainer.gpu_trainer ] INFO: => Accuracy improved, saving best checkpoint ...\n",
      "[ 2020-07-31 14:21:27,085 - tensorclan.trainer.gpu_trainer ] INFO: => Saving checkpoint ...\n",
      "[ 2020-07-31 14:21:27,090 - tensorclan.trainer.gpu_trainer ] INFO: \n",
      "\n",
      "[ 2020-07-31 14:21:27,091 - tensorclan.trainer.gpu_trainer ] INFO: => Training Epoch 1\n",
      "[ 2020-07-31 14:21:31,251 - tensorclan.trainer.gpu_trainer ] INFO: loss: 0.27347273112677817, accuracy: 91.93166666666667\n",
      "[ 2020-07-31 14:21:31,253 - tensorclan.trainer.gpu_trainer ] INFO: => Testing Epoch 1\n",
      "[ 2020-07-31 14:21:32,003 - tensorclan.trainer.gpu_trainer ] INFO: loss: 0.07537850673911692 accuracy: 97.5\n",
      "[ 2020-07-31 14:21:32,005 - tensorclan.trainer.gpu_trainer ] INFO: => Accuracy improved, saving best checkpoint ...\n",
      "[ 2020-07-31 14:21:32,010 - tensorclan.trainer.gpu_trainer ] INFO: => Saving checkpoint ...\n",
      "[ 2020-07-31 14:21:32,014 - tensorclan.trainer.gpu_trainer ] INFO: \n",
      "\n",
      "[ 2020-07-31 14:21:32,015 - tensorclan.trainer.gpu_trainer ] INFO: => Training Epoch 2\n",
      "[ 2020-07-31 14:21:36,048 - tensorclan.trainer.gpu_trainer ] INFO: loss: 0.22770368442860747, accuracy: 93.28166666666667\n",
      "[ 2020-07-31 14:21:36,049 - tensorclan.trainer.gpu_trainer ] INFO: => Testing Epoch 2\n",
      "[ 2020-07-31 14:21:36,834 - tensorclan.trainer.gpu_trainer ] INFO: loss: 0.06092710969851741 accuracy: 98.13\n",
      "[ 2020-07-31 14:21:36,836 - tensorclan.trainer.gpu_trainer ] INFO: => Accuracy improved, saving best checkpoint ...\n",
      "[ 2020-07-31 14:21:36,841 - tensorclan.trainer.gpu_trainer ] INFO: => Saving checkpoint ...\n",
      "[ 2020-07-31 14:21:36,845 - tensorclan.trainer.gpu_trainer ] INFO: \n",
      "\n",
      "[ 2020-07-31 14:21:36,846 - tensorclan.trainer.gpu_trainer ] INFO: => Training Epoch 3\n",
      "[ 2020-07-31 14:21:40,908 - tensorclan.trainer.gpu_trainer ] INFO: loss: 0.19368873299089576, accuracy: 94.295\n",
      "[ 2020-07-31 14:21:40,909 - tensorclan.trainer.gpu_trainer ] INFO: => Testing Epoch 3\n",
      "[ 2020-07-31 14:21:41,659 - tensorclan.trainer.gpu_trainer ] INFO: loss: 0.049952105984469 accuracy: 98.36\n",
      "[ 2020-07-31 14:21:41,661 - tensorclan.trainer.gpu_trainer ] INFO: => Accuracy improved, saving best checkpoint ...\n",
      "[ 2020-07-31 14:21:41,666 - tensorclan.trainer.gpu_trainer ] INFO: => Saving checkpoint ...\n",
      "[ 2020-07-31 14:21:41,670 - tensorclan.trainer.gpu_trainer ] INFO: \n",
      "\n",
      "[ 2020-07-31 14:21:41,671 - tensorclan.trainer.gpu_trainer ] INFO: => Training Epoch 4\n",
      "[ 2020-07-31 14:21:45,715 - tensorclan.trainer.gpu_trainer ] INFO: loss: 0.17997151786393956, accuracy: 94.64\n",
      "[ 2020-07-31 14:21:45,716 - tensorclan.trainer.gpu_trainer ] INFO: => Testing Epoch 4\n",
      "[ 2020-07-31 14:21:46,446 - tensorclan.trainer.gpu_trainer ] INFO: loss: 0.04391379182851767 accuracy: 98.62\n",
      "[ 2020-07-31 14:21:46,448 - tensorclan.trainer.gpu_trainer ] INFO: => Accuracy improved, saving best checkpoint ...\n",
      "[ 2020-07-31 14:21:46,453 - tensorclan.trainer.gpu_trainer ] INFO: => Saving checkpoint ...\n",
      "[ 2020-07-31 14:21:46,457 - tensorclan.trainer.gpu_trainer ] INFO: \n",
      "\n"
     ]
    }
   ],
   "source": [
    "runner.start_train()"
   ],
   "metadata": {
    "collapsed": false,
    "pycharm": {
     "name": "#%%\n"
    }
   }
  },
  {
   "cell_type": "code",
   "execution_count": 24,
   "outputs": [],
   "source": [],
   "metadata": {
    "collapsed": false,
    "pycharm": {
     "name": "#%%\n"
    }
   }
  }
 ],
 "metadata": {
  "kernelspec": {
   "name": "pycharm-1b12d3ba",
   "language": "python",
   "display_name": "PyCharm (TheTensorClan)"
  },
  "language_info": {
   "codemirror_mode": {
    "name": "ipython",
    "version": 2
   },
   "file_extension": ".py",
   "mimetype": "text/x-python",
   "name": "python",
   "nbconvert_exporter": "python",
   "pygments_lexer": "ipython2",
   "version": "2.7.6"
  }
 },
 "nbformat": 4,
 "nbformat_minor": 0
}