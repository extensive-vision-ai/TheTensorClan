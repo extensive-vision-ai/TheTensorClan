{
 "cells": [
  {
   "cell_type": "code",
   "execution_count": 1,
   "outputs": [],
   "source": [
    "import sys\n",
    "sys.path.insert(0, '../')"
   ],
   "metadata": {
    "collapsed": false,
    "pycharm": {
     "name": "#%%\n"
    }
   }
  },
  {
   "cell_type": "code",
   "execution_count": 2,
   "outputs": [],
   "source": [
    "from typing import Tuple\n",
    "\n",
    "import torch\n",
    "import torch.nn as nn\n",
    "import torch.nn.functional as F\n",
    "from torch.utils.data import Subset\n",
    "from torchvision import datasets\n",
    "\n",
    "import albumentations as A\n",
    "import albumentations.pytorch.transforms as AT\n",
    "\n",
    "import tensorclan\n",
    "import tensorclan.dataset as tcd\n",
    "import tensorclan.model as tcm\n",
    "import tensorclan.dataset as tcd\n",
    "import tensorclan.dataset.augmentation as tca\n",
    "import tensorclan.utils as tc_utils\n",
    "import tensorclan.runner as tc_runner"
   ],
   "metadata": {
    "collapsed": false,
    "pycharm": {
     "name": "#%%\n"
    }
   }
  },
  {
   "cell_type": "code",
   "execution_count": 3,
   "outputs": [
    {
     "name": "stdout",
     "output_type": "stream",
     "text": [
      "Overwriting custom_model.yaml\n"
     ]
    }
   ],
   "source": [
    "%%writefile custom_model.yaml\n",
    "\n",
    "name: TTC_EXAMPLE\n",
    "log_dir: logs\n",
    "chkpt_dir: checkpoint\n",
    "use_checkpoints: true\n",
    "\n",
    "device: GPU\n",
    "\n",
    "model:\n",
    "    name: Net\n",
    "\n",
    "dataset:\n",
    "    name: MNISTV2\n",
    "    transforms: MNISTTransformsV2\n",
    "    root: data\n",
    "    loader_args:\n",
    "        batch_size: 128\n",
    "        num_workers: 2\n",
    "        shuffle: True\n",
    "        pin_memory: True\n",
    "\n",
    "loss: CrossEntropyLoss\n",
    "\n",
    "optimizer:\n",
    "    type: SGD\n",
    "    args:\n",
    "        lr: 0.01\n",
    "        momentum: 0.95\n",
    "\n",
    "training:\n",
    "    epochs: 5"
   ],
   "metadata": {
    "collapsed": false,
    "pycharm": {
     "name": "#%%\n"
    }
   }
  },
  {
   "cell_type": "code",
   "execution_count": 4,
   "metadata": {
    "collapsed": true,
    "pycharm": {
     "name": "#%%\n"
    }
   },
   "outputs": [
    {
     "name": "stdout",
     "output_type": "stream",
     "text": [
      "[ 2020-07-31 12:42:51,835 - tensorclan.model.model ] INFO: Registered Net as model\n",
      "[ 2020-07-31 12:42:51,837 - tensorclan.dataset.dataset ] INFO: Registered MNISTV2 as dataset\n",
      "[ 2020-07-31 12:42:51,841 - tensorclan.dataset.augmentation.augmentation ] INFO: Registered MNISTTransformsV2 as augmentation\n"
     ]
    }
   ],
   "source": [
    "@tcm.model\n",
    "class Net(nn.Module):\n",
    "    def __init__(self):\n",
    "        super(Net, self).__init__()\n",
    "        self.conv1 = nn.Conv2d(1, 10, kernel_size=5)\n",
    "        self.conv2 = nn.Conv2d(10, 20, kernel_size=5)\n",
    "        self.conv2_drop = nn.Dropout2d()\n",
    "        self.fc1 = nn.Linear(320, 50)\n",
    "        self.fc2 = nn.Linear(50, 10)\n",
    "\n",
    "    def forward(self, x):\n",
    "        x = F.relu(F.max_pool2d(self.conv1(x), 2))\n",
    "        x = F.relu(F.max_pool2d(self.conv2_drop(self.conv2(x)), 2))\n",
    "        x = x.view(-1, 320)\n",
    "        x = F.relu(self.fc1(x))\n",
    "        x = F.dropout(x, training=self.training)\n",
    "        x = self.fc2(x)\n",
    "        return x\n",
    "\n",
    "@tcd.dataset\n",
    "class MNISTV2(tcd.BaseDataset):\n",
    "    test_set: datasets.MNIST\n",
    "    train_set: datasets.MNIST\n",
    "\n",
    "    def __init__(self, root: str, transforms: tca.BaseAugmentation):\n",
    "        self.data_dir = root\n",
    "\n",
    "        self.train_set = datasets.MNIST(\n",
    "            self.data_dir,\n",
    "            train=True,\n",
    "            download=True,\n",
    "            transform=transforms.build_transforms(train=True),\n",
    "        )\n",
    "\n",
    "        self.test_set = datasets.MNIST(\n",
    "            self.data_dir,\n",
    "            train=False,\n",
    "            download=True,\n",
    "            transform=transforms.build_transforms(train=False)\n",
    "        )\n",
    "\n",
    "    def split_dataset(self):\n",
    "        return Subset(self.train_set, indices=range(0, len(self.train_set))), Subset(self.test_set, indices=range(0, len(self.test_set)))\n",
    "\n",
    "    @staticmethod\n",
    "    def plot_sample(sample):\n",
    "        pass\n",
    "\n",
    "@tca.augmentation\n",
    "class MNISTTransformsV2(tca.BaseAugmentation):\n",
    "\n",
    "    mean: Tuple[float] = (0.1307,)\n",
    "    std: Tuple[float] = (0.3081,)\n",
    "\n",
    "    def build_train(self):\n",
    "        train_transforms = A.Compose([\n",
    "            A.Normalize(mean=self.mean, std=self.std),\n",
    "            AT.ToTensor()\n",
    "        ])\n",
    "        return train_transforms\n",
    "\n",
    "    def build_test(self):\n",
    "        test_transforms = A.Compose([\n",
    "            A.Normalize(mean=self.mean, std=self.std),\n",
    "            AT.ToTensor()\n",
    "        ])\n",
    "\n",
    "        return test_transforms"
   ]
  },
  {
   "cell_type": "code",
   "execution_count": 5,
   "outputs": [],
   "source": [
    "config = tc_utils.load_config('custom_model.yaml')"
   ],
   "metadata": {
    "collapsed": false,
    "pycharm": {
     "name": "#%%\n"
    }
   }
  },
  {
   "cell_type": "code",
   "execution_count": 6,
   "outputs": [
    {
     "name": "stdout",
     "output_type": "stream",
     "text": [
      "[ 2020-07-31 12:42:52,079 - tensorclan.runner.runner ] INFO: => Now simply setup_train and then start_train your model\n"
     ]
    }
   ],
   "source": [
    "runner = tc_runner.Runner(config=config)\n"
   ],
   "metadata": {
    "collapsed": false,
    "pycharm": {
     "name": "#%%\n"
    }
   }
  },
  {
   "cell_type": "code",
   "execution_count": 7,
   "outputs": [
    {
     "name": "stdout",
     "output_type": "stream",
     "text": [
      "[ 2020-07-31 12:42:52,105 - tensorclan.runner.runner ] INFO: => Config\n",
      "[ 2020-07-31 12:42:52,108 - tensorclan.runner.runner ] INFO: {'chkpt_dir': 'checkpoint',\n",
      "[ 2020-07-31 12:42:52,110 - tensorclan.runner.runner ] INFO:  'dataset': {'loader_args': {'batch_size': 128,\n",
      "[ 2020-07-31 12:42:52,112 - tensorclan.runner.runner ] INFO:                              'num_workers': 2,\n",
      "[ 2020-07-31 12:42:52,114 - tensorclan.runner.runner ] INFO:                              'pin_memory': True,\n",
      "[ 2020-07-31 12:42:52,116 - tensorclan.runner.runner ] INFO:                              'shuffle': True},\n",
      "[ 2020-07-31 12:42:52,117 - tensorclan.runner.runner ] INFO:              'name': 'MNISTV2',\n",
      "[ 2020-07-31 12:42:52,118 - tensorclan.runner.runner ] INFO:              'root': 'data',\n",
      "[ 2020-07-31 12:42:52,120 - tensorclan.runner.runner ] INFO:              'transforms': 'MNISTTransformsV2'},\n",
      "[ 2020-07-31 12:42:52,121 - tensorclan.runner.runner ] INFO:  'device': 'GPU',\n",
      "[ 2020-07-31 12:42:52,122 - tensorclan.runner.runner ] INFO:  'log_dir': 'logs',\n",
      "[ 2020-07-31 12:42:52,123 - tensorclan.runner.runner ] INFO:  'loss': 'CrossEntropyLoss',\n",
      "[ 2020-07-31 12:42:52,126 - tensorclan.runner.runner ] INFO:  'model': {'name': 'Net'},\n",
      "[ 2020-07-31 12:42:52,127 - tensorclan.runner.runner ] INFO:  'name': 'TTC_EXAMPLE',\n",
      "[ 2020-07-31 12:42:52,128 - tensorclan.runner.runner ] INFO:  'optimizer': {'args': {'lr': 0.01, 'momentum': 0.95}, 'type': 'SGD'},\n",
      "[ 2020-07-31 12:42:52,129 - tensorclan.runner.runner ] INFO:  'training': {'epochs': 5},\n",
      "[ 2020-07-31 12:42:52,129 - tensorclan.runner.runner ] INFO:  'use_checkpoints': True}\n",
      "[ 2020-07-31 12:42:52,130 - tensorclan.dataset.augmentation.augmentation ] INFO: Building User Augmentation <class '__main__.MNISTTransformsV2'>.MNISTTransformsV2\n",
      "[ 2020-07-31 12:42:52,130 - tensorclan.dataset.dataset ] INFO: Building User Dataset <class '__main__.MNISTV2'>.MNISTV2\n",
      "[ 2020-07-31 12:42:52,170 - tensorclan.runner.runner ] INFO: => Found subset.pt loading indices\n",
      "[ 2020-07-31 12:42:52,171 - tensorclan.model.model ] INFO: Building User Model <class '__main__.Net'>.Net\n",
      "[ 2020-07-31 12:42:52,173 - tensorclan.utils.config ] INFO: Building torch.optim.SGD\n",
      "[ 2020-07-31 12:42:52,174 - tensorclan.utils.config ] INFO: Building torch.nn.CrossEntropyLoss\n",
      "[ 2020-07-31 12:42:52,175 - tensorclan.runner.runner ] INFO: => No saved checkpoints found\n",
      "[ 2020-07-31 12:42:52,175 - tensorclan.utils.config ] INFO: Building tensorclan.trainer.GPUTrainer\n",
      "[ 2020-07-31 12:42:52,178 - tensorclan.utils.config ] INFO: Building torch.utils.data.DataLoader\n",
      "[ 2020-07-31 12:42:52,178 - tensorclan.utils.config ] INFO: Building torch.utils.data.DataLoader\n"
     ]
    }
   ],
   "source": [
    "runner.setup_train()"
   ],
   "metadata": {
    "collapsed": false,
    "pycharm": {
     "name": "#%%\n"
    }
   }
  },
  {
   "cell_type": "code",
   "execution_count": 8,
   "outputs": [
    {
     "name": "stdout",
     "output_type": "stream",
     "text": [
      "[ 2020-07-31 12:42:53,642 - tensorclan.trainer.gpu_trainer ] INFO: => Training Started\n",
      "[ 2020-07-31 12:42:53,642 - tensorclan.trainer.gpu_trainer ] INFO: Training the model for 5 epochs\n",
      "[ 2020-07-31 12:42:53,643 - tensorclan.trainer.gpu_trainer ] INFO: => Training Epoch 0\n",
      "[ 2020-07-31 12:42:57,579 - tensorclan.trainer.gpu_trainer ] INFO: loss: 0.6495537246023414, accuracy: 78.585\n",
      "[ 2020-07-31 12:42:57,580 - tensorclan.trainer.gpu_trainer ] INFO: => Testing Epoch 0\n",
      "[ 2020-07-31 12:42:58,283 - tensorclan.trainer.gpu_trainer ] INFO: loss: 0.08887321400585808 accuracy: 97.3\n",
      "[ 2020-07-31 12:42:58,285 - tensorclan.trainer.gpu_trainer ] INFO: => Accuracy improved, saving best checkpoint ...\n",
      "[ 2020-07-31 12:42:58,289 - tensorclan.trainer.gpu_trainer ] INFO: => Saving checkpoint ...\n",
      "[ 2020-07-31 12:42:58,293 - tensorclan.trainer.gpu_trainer ] INFO: \n",
      "\n",
      "[ 2020-07-31 12:42:58,294 - tensorclan.trainer.gpu_trainer ] INFO: => Training Epoch 1\n",
      "[ 2020-07-31 12:43:02,198 - tensorclan.trainer.gpu_trainer ] INFO: loss: 0.27013229480239626, accuracy: 91.97\n",
      "[ 2020-07-31 12:43:02,199 - tensorclan.trainer.gpu_trainer ] INFO: => Testing Epoch 1\n",
      "[ 2020-07-31 12:43:02,929 - tensorclan.trainer.gpu_trainer ] INFO: loss: 0.07529908008401907 accuracy: 97.65\n",
      "[ 2020-07-31 12:43:02,932 - tensorclan.trainer.gpu_trainer ] INFO: => Accuracy improved, saving best checkpoint ...\n",
      "[ 2020-07-31 12:43:02,937 - tensorclan.trainer.gpu_trainer ] INFO: => Saving checkpoint ...\n",
      "[ 2020-07-31 12:43:02,941 - tensorclan.trainer.gpu_trainer ] INFO: \n",
      "\n",
      "[ 2020-07-31 12:43:02,941 - tensorclan.trainer.gpu_trainer ] INFO: => Training Epoch 2\n",
      "[ 2020-07-31 12:43:06,779 - tensorclan.trainer.gpu_trainer ] INFO: loss: 0.22518810831598127, accuracy: 93.37166666666667\n",
      "[ 2020-07-31 12:43:06,780 - tensorclan.trainer.gpu_trainer ] INFO: => Testing Epoch 2\n",
      "[ 2020-07-31 12:43:07,514 - tensorclan.trainer.gpu_trainer ] INFO: loss: 0.05918984695137301 accuracy: 98.17\n",
      "[ 2020-07-31 12:43:07,515 - tensorclan.trainer.gpu_trainer ] INFO: => Accuracy improved, saving best checkpoint ...\n",
      "[ 2020-07-31 12:43:07,520 - tensorclan.trainer.gpu_trainer ] INFO: => Saving checkpoint ...\n",
      "[ 2020-07-31 12:43:07,524 - tensorclan.trainer.gpu_trainer ] INFO: \n",
      "\n",
      "[ 2020-07-31 12:43:07,525 - tensorclan.trainer.gpu_trainer ] INFO: => Training Epoch 3\n",
      "[ 2020-07-31 12:43:11,460 - tensorclan.trainer.gpu_trainer ] INFO: loss: 0.19765465974267613, accuracy: 94.20166666666667\n",
      "[ 2020-07-31 12:43:11,462 - tensorclan.trainer.gpu_trainer ] INFO: => Testing Epoch 3\n",
      "[ 2020-07-31 12:43:12,177 - tensorclan.trainer.gpu_trainer ] INFO: loss: 0.048771970539907866 accuracy: 98.46\n",
      "[ 2020-07-31 12:43:12,179 - tensorclan.trainer.gpu_trainer ] INFO: => Accuracy improved, saving best checkpoint ...\n",
      "[ 2020-07-31 12:43:12,184 - tensorclan.trainer.gpu_trainer ] INFO: => Saving checkpoint ...\n",
      "[ 2020-07-31 12:43:12,189 - tensorclan.trainer.gpu_trainer ] INFO: \n",
      "\n",
      "[ 2020-07-31 12:43:12,189 - tensorclan.trainer.gpu_trainer ] INFO: => Training Epoch 4\n",
      "[ 2020-07-31 12:43:16,078 - tensorclan.trainer.gpu_trainer ] INFO: loss: 0.1888001880952036, accuracy: 94.44666666666667\n",
      "[ 2020-07-31 12:43:16,080 - tensorclan.trainer.gpu_trainer ] INFO: => Testing Epoch 4\n",
      "[ 2020-07-31 12:43:16,825 - tensorclan.trainer.gpu_trainer ] INFO: loss: 0.0504982220598414 accuracy: 98.39\n",
      "[ 2020-07-31 12:43:16,827 - tensorclan.trainer.gpu_trainer ] INFO: => Saving checkpoint ...\n",
      "[ 2020-07-31 12:43:16,831 - tensorclan.trainer.gpu_trainer ] INFO: \n",
      "\n"
     ]
    }
   ],
   "source": [
    "runner.start_train()"
   ],
   "metadata": {
    "collapsed": false,
    "pycharm": {
     "name": "#%%\n"
    }
   }
  },
  {
   "cell_type": "code",
   "execution_count": 8,
   "outputs": [],
   "source": [],
   "metadata": {
    "collapsed": false,
    "pycharm": {
     "name": "#%%\n"
    }
   }
  }
 ],
 "metadata": {
  "kernelspec": {
   "name": "pycharm-1b12d3ba",
   "language": "python",
   "display_name": "PyCharm (TheTensorClan)"
  },
  "language_info": {
   "codemirror_mode": {
    "name": "ipython",
    "version": 2
   },
   "file_extension": ".py",
   "mimetype": "text/x-python",
   "name": "python",
   "nbconvert_exporter": "python",
   "pygments_lexer": "ipython2",
   "version": "2.7.6"
  }
 },
 "nbformat": 4,
 "nbformat_minor": 0
}