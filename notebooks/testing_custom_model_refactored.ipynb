{
 "cells": [
  {
   "cell_type": "code",
   "execution_count": 8,
   "metadata": {
    "collapsed": false,
    "pycharm": {
     "name": "#%%\n"
    }
   },
   "outputs": [],
   "source": [
    "root_dir = '../' \n",
    "import sys\n",
    "sys.path.insert(0, root_dir)"
   ]
  },
  {
   "cell_type": "code",
   "execution_count": 11,
   "metadata": {
    "collapsed": false,
    "pycharm": {
     "name": "#%%\n"
    }
   },
   "outputs": [],
   "source": [
    "from typing import Tuple\n",
    "\n",
    "import torch\n",
    "import torch.nn as nn\n",
    "import torch.nn.functional as F\n",
    "from torch.utils.data import Subset\n",
    "from torchvision import datasets\n",
    "\n",
    "import albumentations as A\n",
    "import albumentations.pytorch.transforms as AT\n",
    "\n",
    "import tensorclan\n",
    "import tensorclan.dataset as tcd\n",
    "import tensorclan.model as tcm\n",
    "import tensorclan.dataset as tcd\n",
    "### modified here\n",
    "import tensorclan.dataset.transform as tca\n",
    "import tensorclan.utils as tc_utils\n",
    "# import tensorclan.runner as tc_runner"
   ]
  },
  {
   "cell_type": "code",
   "execution_count": 12,
   "metadata": {
    "collapsed": false,
    "pycharm": {
     "name": "#%%\n"
    },
    "tags": []
   },
   "outputs": [
    {
     "output_type": "stream",
     "name": "stdout",
     "text": "Overwriting custom_model.yaml\n"
    }
   ],
   "source": [
    "%%writefile custom_model.yaml\n",
    "\n",
    "name: TTC_EXAMPLE\n",
    "log_dir: logs\n",
    "chkpt_dir: checkpoint\n",
    "use_checkpoints: true\n",
    "\n",
    "device: GPU\n",
    "\n",
    "model:\n",
    "    name: Net\n",
    "\n",
    "dataset:\n",
    "    name: MNISTV2\n",
    "    transforms: MNISTTransformsV2\n",
    "    args:\n",
    "        root: data\n",
    "    loader_args:\n",
    "        batch_size: 128\n",
    "        num_workers: 2\n",
    "        shuffle: True\n",
    "        pin_memory: True\n",
    "\n",
    "loss: CrossEntropyLoss\n",
    "\n",
    "optimizer:\n",
    "    type: SGD\n",
    "    args:\n",
    "        lr: 0.01\n",
    "        momentum: 0.95\n",
    "\n",
    "training:\n",
    "    epochs: 5"
   ]
  },
  {
   "cell_type": "code",
   "execution_count": 13,
   "metadata": {
    "collapsed": true,
    "pycharm": {
     "name": "#%%\n"
    },
    "tags": []
   },
   "outputs": [
    {
     "output_type": "stream",
     "name": "stdout",
     "text": "[ 2020-08-08 16:43:28,476 - tensorclan.model.model ] INFO: Registered Net as model\n[ 2020-08-08 16:43:28,477 - tensorclan.dataset.dataset ] INFO: Registered MNISTV2 as dataset\n[ 2020-08-08 16:43:28,478 - tensorclan.dataset.transform.utils ] INFO: Registered MNISTTransformsV2 as transformation\n"
    }
   ],
   "source": [
    "@tcm.model\n",
    "class Net(nn.Module):\n",
    "    def __init__(self):\n",
    "        super(Net, self).__init__()\n",
    "        self.conv1 = nn.Conv2d(1, 10, kernel_size=5)\n",
    "        self.conv2 = nn.Conv2d(10, 20, kernel_size=5)\n",
    "        self.conv2_drop = nn.Dropout2d()\n",
    "        self.fc1 = nn.Linear(320, 50)\n",
    "        self.fc2 = nn.Linear(50, 10)\n",
    "\n",
    "    def forward(self, x):\n",
    "        x = F.relu(F.max_pool2d(self.conv1(x), 2))\n",
    "        x = F.relu(F.max_pool2d(self.conv2_drop(self.conv2(x)), 2))\n",
    "        x = x.view(-1, 320)\n",
    "        x = F.relu(self.fc1(x))\n",
    "        x = F.dropout(x, training=self.training)\n",
    "        x = self.fc2(x)\n",
    "        return x\n",
    "\n",
    "@tcd.dataset\n",
    "class MNISTV2(tcd.BaseDataset):\n",
    "    test_set: datasets.MNIST\n",
    "    train_set: datasets.MNIST\n",
    "\n",
    "    def __init__(self, root: str, transforms=None):\n",
    "        self.data_dir = root\n",
    "        self.transforms = transforms\n",
    "\n",
    "    @staticmethod\n",
    "    def split_dataset(dataset, transforms):\n",
    "\n",
    "        train_set = datasets.MNIST(\n",
    "            dataset.data_dir,\n",
    "            train=True,\n",
    "            download=True,\n",
    "            transform=transforms.build_transforms(train=True),\n",
    "        )\n",
    "\n",
    "        test_set = datasets.MNIST(\n",
    "            dataset.data_dir,\n",
    "            train=False,\n",
    "            download=True,\n",
    "            transform=transforms.build_transforms(train=False)\n",
    "        )\n",
    "        return Subset(train_set, indices=range(0, len(train_set))), Subset(test_set, indices=range(0, len(test_set)))\n",
    "\n",
    "    @staticmethod\n",
    "    def plot_sample(sample):\n",
    "        pass\n",
    "\n",
    "\n",
    "### modified here\n",
    "@tca.transformation\n",
    "class MNISTTransformsV2(tca.BaseTransform): ### modified here\n",
    "\n",
    "    mean: Tuple[float] = (0.1307,)\n",
    "    std: Tuple[float] = (0.3081,)\n",
    "\n",
    "    def build_train(self):\n",
    "        train_transforms = A.Compose([\n",
    "            A.Normalize(mean=self.mean, std=self.std),\n",
    "            AT.ToTensor(),\n",
    "            A.Lambda(image=lambda x, **kwargs: x.unsqueeze(0), always_apply=True)\n",
    "        ])\n",
    "        return train_transforms\n",
    "\n",
    "    def build_test(self):\n",
    "        test_transforms = A.Compose([\n",
    "            A.Normalize(mean=self.mean, std=self.std),\n",
    "            AT.ToTensor(),\n",
    "            A.Lambda(image=lambda x, **kwargs: x.unsqueeze(0), always_apply=True)\n",
    "        ])\n",
    "\n",
    "        return test_transforms"
   ]
  },
  {
   "cell_type": "code",
   "execution_count": 14,
   "metadata": {
    "collapsed": false,
    "pycharm": {
     "name": "#%%\n"
    }
   },
   "outputs": [],
   "source": [
    "config = tc_utils.load_config('custom_model.yaml')"
   ]
  },
  {
   "cell_type": "code",
   "execution_count": 1,
   "metadata": {
    "collapsed": false,
    "pycharm": {
     "name": "#%%\n"
    }
   },
   "outputs": [],
   "source": [
    "runner = tc_runner.Runner(config=config)\n"
   ]
  },
  {
   "cell_type": "code",
   "execution_count": 15,
   "metadata": {
    "collapsed": false,
    "pycharm": {
     "name": "#%%\n"
    }
   },
   "outputs": [
    {
     "name": "stdout",
     "output_type": "stream",
     "text": [
      "[ 2020-07-31 15:08:53,020 - tensorclan.runner.runner ] INFO: => Config\n",
      "[ 2020-07-31 15:08:53,023 - tensorclan.runner.runner ] INFO: {'chkpt_dir': 'checkpoint',\n",
      "[ 2020-07-31 15:08:53,024 - tensorclan.runner.runner ] INFO:  'dataset': {'args': {'root': 'data'},\n",
      "[ 2020-07-31 15:08:53,026 - tensorclan.runner.runner ] INFO:              'loader_args': {'batch_size': 128,\n",
      "[ 2020-07-31 15:08:53,028 - tensorclan.runner.runner ] INFO:                              'num_workers': 2,\n",
      "[ 2020-07-31 15:08:53,030 - tensorclan.runner.runner ] INFO:                              'pin_memory': True,\n",
      "[ 2020-07-31 15:08:53,032 - tensorclan.runner.runner ] INFO:                              'shuffle': True},\n",
      "[ 2020-07-31 15:08:53,034 - tensorclan.runner.runner ] INFO:              'name': 'MNISTV2',\n",
      "[ 2020-07-31 15:08:53,036 - tensorclan.runner.runner ] INFO:              'transforms': 'MNISTTransformsV2'},\n",
      "[ 2020-07-31 15:08:53,038 - tensorclan.runner.runner ] INFO:  'device': 'GPU',\n",
      "[ 2020-07-31 15:08:53,039 - tensorclan.runner.runner ] INFO:  'log_dir': 'logs',\n",
      "[ 2020-07-31 15:08:53,040 - tensorclan.runner.runner ] INFO:  'loss': 'CrossEntropyLoss',\n",
      "[ 2020-07-31 15:08:53,041 - tensorclan.runner.runner ] INFO:  'model': {'name': 'Net'},\n",
      "[ 2020-07-31 15:08:53,042 - tensorclan.runner.runner ] INFO:  'name': 'TTC_EXAMPLE',\n",
      "[ 2020-07-31 15:08:53,044 - tensorclan.runner.runner ] INFO:  'optimizer': {'args': {'lr': 0.01, 'momentum': 0.95}, 'type': 'SGD'},\n",
      "[ 2020-07-31 15:08:53,045 - tensorclan.runner.runner ] INFO:  'training': {'epochs': 5},\n",
      "[ 2020-07-31 15:08:53,045 - tensorclan.runner.runner ] INFO:  'use_checkpoints': True}\n",
      "[ 2020-07-31 15:08:53,046 - tensorclan.dataset.augmentation.augmentation ] INFO: Building User Augmentation <class '__main__.MNISTTransformsV2'>.MNISTTransformsV2\n",
      "[ 2020-07-31 15:08:53,047 - tensorclan.dataset.dataset ] INFO: Building User Dataset <class '__main__.MNISTV2'>.MNISTV2\n",
      "[ 2020-07-31 15:08:53,048 - tensorclan.dataset.dataset ] INFO: Building User Dataset <class '__main__.MNISTV2'>.MNISTV2\n",
      "[ 2020-07-31 15:08:53,081 - tensorclan.runner.runner ] INFO: => Saved subset.pt (train, test indices)\n",
      "[ 2020-07-31 15:08:53,082 - tensorclan.model.model ] INFO: Building User Model <class '__main__.Net'>.Net\n",
      "[ 2020-07-31 15:08:53,083 - tensorclan.utils.config ] INFO: Building torch.optim.SGD\n",
      "[ 2020-07-31 15:08:53,083 - tensorclan.utils.config ] INFO: Building torch.nn.CrossEntropyLoss\n",
      "[ 2020-07-31 15:08:53,084 - tensorclan.runner.runner ] INFO: => No saved checkpoints found\n",
      "[ 2020-07-31 15:08:53,084 - tensorclan.utils.config ] INFO: Building tensorclan.trainer.GPUTrainer\n",
      "[ 2020-07-31 15:08:53,086 - tensorclan.utils.config ] INFO: Building torch.utils.data.DataLoader\n",
      "[ 2020-07-31 15:08:53,086 - tensorclan.utils.config ] INFO: Building torch.utils.data.DataLoader\n"
     ]
    },
    {
     "name": "stderr",
     "output_type": "stream",
     "text": [
      "/home/shadowleaf/anaconda3/envs/tensorclan/lib/python3.8/site-packages/albumentations/augmentations/transforms.py:2963: UserWarning: Using lambda is incompatible with multiprocessing. Consider using regular functions or partial().\n",
      "  warnings.warn(\n"
     ]
    }
   ],
   "source": [
    "runner.setup_train()"
   ]
  },
  {
   "cell_type": "code",
   "execution_count": 16,
   "metadata": {
    "collapsed": false,
    "pycharm": {
     "name": "#%%\n"
    }
   },
   "outputs": [
    {
     "name": "stdout",
     "output_type": "stream",
     "text": [
      "[ 2020-07-31 15:08:53,241 - tensorclan.trainer.gpu_trainer ] INFO: => Training Started\n",
      "[ 2020-07-31 15:08:53,245 - tensorclan.trainer.gpu_trainer ] INFO: Training the model for 5 epochs\n",
      "[ 2020-07-31 15:08:53,248 - tensorclan.trainer.gpu_trainer ] INFO: => Training Epoch 0\n",
      "[ 2020-07-31 15:08:57,819 - tensorclan.trainer.gpu_trainer ] INFO: loss: 0.6247200492157865, accuracy: 79.61666666666666\n",
      "[ 2020-07-31 15:08:57,820 - tensorclan.trainer.gpu_trainer ] INFO: => Testing Epoch 0\n",
      "[ 2020-07-31 15:08:58,659 - tensorclan.trainer.gpu_trainer ] INFO: loss: 0.09590911485632009 accuracy: 96.93\n",
      "[ 2020-07-31 15:08:58,661 - tensorclan.trainer.gpu_trainer ] INFO: => Accuracy improved, saving best checkpoint ...\n",
      "[ 2020-07-31 15:08:58,666 - tensorclan.trainer.gpu_trainer ] INFO: => Saving checkpoint ...\n",
      "[ 2020-07-31 15:08:58,670 - tensorclan.trainer.gpu_trainer ] INFO: \n",
      "\n",
      "[ 2020-07-31 15:08:58,670 - tensorclan.trainer.gpu_trainer ] INFO: => Training Epoch 1\n",
      "[ 2020-07-31 15:09:03,180 - tensorclan.trainer.gpu_trainer ] INFO: loss: 0.26538430769115623, accuracy: 92.04333333333334\n",
      "[ 2020-07-31 15:09:03,181 - tensorclan.trainer.gpu_trainer ] INFO: => Testing Epoch 1\n",
      "[ 2020-07-31 15:09:04,017 - tensorclan.trainer.gpu_trainer ] INFO: loss: 0.06650424571825733 accuracy: 97.74\n",
      "[ 2020-07-31 15:09:04,019 - tensorclan.trainer.gpu_trainer ] INFO: => Accuracy improved, saving best checkpoint ...\n",
      "[ 2020-07-31 15:09:04,025 - tensorclan.trainer.gpu_trainer ] INFO: => Saving checkpoint ...\n",
      "[ 2020-07-31 15:09:04,029 - tensorclan.trainer.gpu_trainer ] INFO: \n",
      "\n",
      "[ 2020-07-31 15:09:04,030 - tensorclan.trainer.gpu_trainer ] INFO: => Training Epoch 2\n",
      "[ 2020-07-31 15:09:08,443 - tensorclan.trainer.gpu_trainer ] INFO: loss: 0.2240356472350641, accuracy: 93.35\n",
      "[ 2020-07-31 15:09:08,444 - tensorclan.trainer.gpu_trainer ] INFO: => Testing Epoch 2\n",
      "[ 2020-07-31 15:09:09,275 - tensorclan.trainer.gpu_trainer ] INFO: loss: 0.05549424129856538 accuracy: 98.37\n",
      "[ 2020-07-31 15:09:09,277 - tensorclan.trainer.gpu_trainer ] INFO: => Accuracy improved, saving best checkpoint ...\n",
      "[ 2020-07-31 15:09:09,282 - tensorclan.trainer.gpu_trainer ] INFO: => Saving checkpoint ...\n",
      "[ 2020-07-31 15:09:09,286 - tensorclan.trainer.gpu_trainer ] INFO: \n",
      "\n",
      "[ 2020-07-31 15:09:09,287 - tensorclan.trainer.gpu_trainer ] INFO: => Training Epoch 3\n",
      "[ 2020-07-31 15:09:13,811 - tensorclan.trainer.gpu_trainer ] INFO: loss: 0.20052449687171592, accuracy: 94.14666666666666\n",
      "[ 2020-07-31 15:09:13,812 - tensorclan.trainer.gpu_trainer ] INFO: => Testing Epoch 3\n"
     ]
    },
    {
     "ename": "KeyboardInterrupt",
     "evalue": "",
     "traceback": [
      "\u001b[0;31m---------------------------------------------------------------------------\u001b[0m",
      "\u001b[0;31mKeyboardInterrupt\u001b[0m                         Traceback (most recent call last)",
      "\u001b[0;32m<ipython-input-16-750e24946054>\u001b[0m in \u001b[0;36m<module>\u001b[0;34m\u001b[0m\n\u001b[0;32m----> 1\u001b[0;31m \u001b[0mrunner\u001b[0m\u001b[0;34m.\u001b[0m\u001b[0mstart_train\u001b[0m\u001b[0;34m(\u001b[0m\u001b[0;34m)\u001b[0m\u001b[0;34m\u001b[0m\u001b[0;34m\u001b[0m\u001b[0m\n\u001b[0m\u001b[1;32m      2\u001b[0m \u001b[0;34m\u001b[0m\u001b[0m\n",
      "\u001b[0;32m/media/shadowleaf/Data/Projects/TheTensorClan/tensorclan/runner/runner.py\u001b[0m in \u001b[0;36mstart_train\u001b[0;34m(self)\u001b[0m\n\u001b[1;32m    159\u001b[0m \u001b[0;34m\u001b[0m\u001b[0m\n\u001b[1;32m    160\u001b[0m     \u001b[0;32mdef\u001b[0m \u001b[0mstart_train\u001b[0m\u001b[0;34m(\u001b[0m\u001b[0mself\u001b[0m\u001b[0;34m)\u001b[0m\u001b[0;34m:\u001b[0m\u001b[0;34m\u001b[0m\u001b[0;34m\u001b[0m\u001b[0m\n\u001b[0;32m--> 161\u001b[0;31m         \u001b[0mself\u001b[0m\u001b[0;34m.\u001b[0m\u001b[0mtrainer\u001b[0m\u001b[0;34m.\u001b[0m\u001b[0mstart_train\u001b[0m\u001b[0;34m(\u001b[0m\u001b[0;34m)\u001b[0m\u001b[0;34m\u001b[0m\u001b[0;34m\u001b[0m\u001b[0m\n\u001b[0m",
      "\u001b[0;32m/media/shadowleaf/Data/Projects/TheTensorClan/tensorclan/trainer/gpu_trainer.py\u001b[0m in \u001b[0;36mstart_train\u001b[0;34m(self)\u001b[0m\n\u001b[1;32m    198\u001b[0m \u001b[0;34m\u001b[0m\u001b[0m\n\u001b[1;32m    199\u001b[0m             \u001b[0;31m# test this epoch\u001b[0m\u001b[0;34m\u001b[0m\u001b[0;34m\u001b[0m\u001b[0;34m\u001b[0m\u001b[0m\n\u001b[0;32m--> 200\u001b[0;31m             \u001b[0mtest_metric\u001b[0m \u001b[0;34m=\u001b[0m \u001b[0mself\u001b[0m\u001b[0;34m.\u001b[0m\u001b[0mtest_epoch\u001b[0m\u001b[0;34m(\u001b[0m\u001b[0mepoch\u001b[0m\u001b[0;34m)\u001b[0m\u001b[0;34m\u001b[0m\u001b[0;34m\u001b[0m\u001b[0m\n\u001b[0m\u001b[1;32m    201\u001b[0m \u001b[0;34m\u001b[0m\u001b[0m\n\u001b[1;32m    202\u001b[0m             \u001b[0;31m# test metrics\u001b[0m\u001b[0;34m\u001b[0m\u001b[0;34m\u001b[0m\u001b[0;34m\u001b[0m\u001b[0m\n",
      "\u001b[0;32m/media/shadowleaf/Data/Projects/TheTensorClan/tensorclan/trainer/gpu_trainer.py\u001b[0m in \u001b[0;36mtest_epoch\u001b[0;34m(self, epoch)\u001b[0m\n\u001b[1;32m    126\u001b[0m \u001b[0;34m\u001b[0m\u001b[0m\n\u001b[1;32m    127\u001b[0m         \u001b[0;31m# clear the cache before testing this epoch\u001b[0m\u001b[0;34m\u001b[0m\u001b[0;34m\u001b[0m\u001b[0;34m\u001b[0m\u001b[0m\n\u001b[0;32m--> 128\u001b[0;31m         \u001b[0mgc\u001b[0m\u001b[0;34m.\u001b[0m\u001b[0mcollect\u001b[0m\u001b[0;34m(\u001b[0m\u001b[0;34m)\u001b[0m\u001b[0;34m\u001b[0m\u001b[0;34m\u001b[0m\u001b[0m\n\u001b[0m\u001b[1;32m    129\u001b[0m         \u001b[0mtorch\u001b[0m\u001b[0;34m.\u001b[0m\u001b[0mcuda\u001b[0m\u001b[0;34m.\u001b[0m\u001b[0mempty_cache\u001b[0m\u001b[0;34m(\u001b[0m\u001b[0;34m)\u001b[0m\u001b[0;34m\u001b[0m\u001b[0;34m\u001b[0m\u001b[0m\n\u001b[1;32m    130\u001b[0m \u001b[0;34m\u001b[0m\u001b[0m\n",
      "\u001b[0;31mKeyboardInterrupt\u001b[0m: "
     ],
     "output_type": "error"
    }
   ],
   "source": [
    "runner.start_train()"
   ]
  },
  {
   "cell_type": "code",
   "execution_count": null,
   "metadata": {
    "collapsed": false,
    "pycharm": {
     "name": "#%%\n"
    }
   },
   "outputs": [],
   "source": []
  }
 ],
 "metadata": {
  "kernelspec": {
   "name": "python_defaultSpec_1596885241270",
   "language": "python",
   "display_name": "Python 3.6.10 64-bit ('tf_gpu': conda)"
  },
  "language_info": {
   "codemirror_mode": {
    "name": "ipython",
    "version": 2
   },
   "file_extension": ".py",
   "mimetype": "text/x-python",
   "name": "python",
   "nbconvert_exporter": "python",
   "pygments_lexer": "ipython2",
   "version": "2.7.6"
  }
 },
 "nbformat": 4,
 "nbformat_minor": 0
}