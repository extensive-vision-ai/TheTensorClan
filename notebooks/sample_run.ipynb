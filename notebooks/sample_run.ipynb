{
 "cells": [
  {
   "cell_type": "code",
   "execution_count": 1,
   "outputs": [],
   "source": [
    "import sys\n",
    "sys.path.insert(0, '../')"
   ],
   "metadata": {
    "collapsed": false,
    "pycharm": {
     "name": "#%%\n"
    }
   }
  },
  {
   "cell_type": "code",
   "execution_count": 6,
   "outputs": [],
   "source": [
    "import tensorclan\n",
    "import tensorclan.utils as tc_utils\n",
    "import tensorclan.runner as tc_runner"
   ],
   "metadata": {
    "collapsed": false,
    "pycharm": {
     "name": "#%%\n"
    }
   }
  },
  {
   "cell_type": "code",
   "execution_count": 3,
   "outputs": [],
   "source": [
    "config = tc_utils.load_config('../experiments/example.yaml')"
   ],
   "metadata": {
    "collapsed": false,
    "pycharm": {
     "name": "#%%\n"
    }
   }
  },
  {
   "cell_type": "code",
   "execution_count": 4,
   "outputs": [
    {
     "name": "stdout",
     "output_type": "stream",
     "text": [
      "[ 2020-07-25 14:54:32,312 - tensorclan.runner.runner ] INFO: => Now simply setup_train and then start_train your model\n"
     ]
    }
   ],
   "source": [
    "runner = tc_runner.Runner(config=config)"
   ],
   "metadata": {
    "collapsed": false,
    "pycharm": {
     "name": "#%%\n"
    }
   }
  },
  {
   "cell_type": "code",
   "execution_count": 5,
   "outputs": [
    {
     "name": "stdout",
     "output_type": "stream",
     "text": [
      "[ 2020-07-25 14:54:32,533 - tensorclan.runner.runner ] INFO: => Config\n",
      "[ 2020-07-25 14:54:32,534 - tensorclan.runner.runner ] INFO: {'chkpt_dir': 'checkpoint',\n",
      "[ 2020-07-25 14:54:32,534 - tensorclan.runner.runner ] INFO:  'dataset': {'loader_args': {'batch_size': 128,\n",
      "[ 2020-07-25 14:54:32,535 - tensorclan.runner.runner ] INFO:                              'num_workers': 2,\n",
      "[ 2020-07-25 14:54:32,535 - tensorclan.runner.runner ] INFO:                              'pin_memory': True,\n",
      "[ 2020-07-25 14:54:32,535 - tensorclan.runner.runner ] INFO:                              'shuffle': True},\n",
      "[ 2020-07-25 14:54:32,536 - tensorclan.runner.runner ] INFO:              'name': 'MNIST',\n",
      "[ 2020-07-25 14:54:32,536 - tensorclan.runner.runner ] INFO:              'root': 'data',\n",
      "[ 2020-07-25 14:54:32,537 - tensorclan.runner.runner ] INFO:              'transforms': 'MNISTTransforms'},\n",
      "[ 2020-07-25 14:54:32,537 - tensorclan.runner.runner ] INFO:  'device': 'GPU',\n",
      "[ 2020-07-25 14:54:32,537 - tensorclan.runner.runner ] INFO:  'log_dir': 'logs',\n",
      "[ 2020-07-25 14:54:32,538 - tensorclan.runner.runner ] INFO:  'loss': 'CrossEntropyLoss',\n",
      "[ 2020-07-25 14:54:32,538 - tensorclan.runner.runner ] INFO:  'lr_scheduler': {'args': {'max_lr': 0.6}, 'type': 'OneCycleLR'},\n",
      "[ 2020-07-25 14:54:32,539 - tensorclan.runner.runner ] INFO:  'model': {'name': 'MNISTV1'},\n",
      "[ 2020-07-25 14:54:32,540 - tensorclan.runner.runner ] INFO:  'name': 'TTC_EXAMPLE',\n",
      "[ 2020-07-25 14:54:32,541 - tensorclan.runner.runner ] INFO:  'optimizer': {'args': {'lr': 0.01}, 'type': 'AdamW'},\n",
      "[ 2020-07-25 14:54:32,541 - tensorclan.runner.runner ] INFO:  'training': {'epochs': 3},\n",
      "[ 2020-07-25 14:54:32,541 - tensorclan.runner.runner ] INFO:  'use_checkpoints': False}\n",
      "[ 2020-07-25 14:54:32,542 - tensorclan.utils.config ] INFO: Building tensorclan.dataset.augmentation.MNISTTransforms\n",
      "[ 2020-07-25 14:54:32,542 - tensorclan.dataset.dataset ] INFO: Building tensorclan.dataset.zoo.MNIST\n",
      "[ 2020-07-25 14:54:41,977 - tensorclan.model.model ] INFO: Building tensorclan.model.zoo.MNISTV1\n",
      "[ 2020-07-25 14:54:41,993 - tensorclan.utils.config ] INFO: Building torch.optim.AdamW\n",
      "[ 2020-07-25 14:54:41,995 - tensorclan.utils.config ] INFO: Building torch.nn.CrossEntropyLoss\n",
      "[ 2020-07-25 14:54:41,997 - tensorclan.utils.config ] INFO: Building tensorclan.trainer.GPUTrainer\n",
      "[ 2020-07-25 14:54:42,007 - tensorclan.utils.config ] INFO: Building torch.utils.data.DataLoader\n",
      "[ 2020-07-25 14:54:42,009 - tensorclan.utils.config ] INFO: Building torch.utils.data.DataLoader\n",
      "[ 2020-07-25 14:54:42,011 - tensorclan.utils.config ] INFO: Building torch.optim.lr_scheduler.OneCycleLR\n"
     ]
    }
   ],
   "source": [
    "runner.setup_train()"
   ],
   "metadata": {
    "collapsed": false,
    "pycharm": {
     "name": "#%%\n"
    }
   }
  },
  {
   "cell_type": "code",
   "execution_count": 7,
   "outputs": [
    {
     "name": "stdout",
     "output_type": "stream",
     "text": [
      "[ 2020-07-25 14:55:01,333 - tensorclan.trainer.gpu_trainer ] INFO: => Training Started\n",
      "[ 2020-07-25 14:55:01,334 - tensorclan.trainer.gpu_trainer ] INFO: Training the model for 3 epochs\n",
      "[ 2020-07-25 14:55:01,334 - tensorclan.trainer.gpu_trainer ] INFO: => LR was set to 0.02400000000000002\n",
      "[ 2020-07-25 14:55:01,335 - tensorclan.trainer.gpu_trainer ] INFO: => Training Epoch 0\n",
      "[ 2020-07-25 14:55:07,421 - tensorclan.trainer.gpu_trainer ] INFO: loss: 0.6005376516056976, accuracy: 82.645\n",
      "[ 2020-07-25 14:55:07,422 - tensorclan.trainer.gpu_trainer ] INFO: => Testing Epoch 0\n",
      "[ 2020-07-25 14:55:08,156 - tensorclan.trainer.gpu_trainer ] INFO: loss: 1.3928011067305939 accuracy: 54.55\n",
      "[ 2020-07-25 14:55:08,158 - tensorclan.trainer.gpu_trainer ] INFO: => LR was set to 0.5965051303247655\n",
      "[ 2020-07-25 14:55:08,159 - tensorclan.trainer.gpu_trainer ] INFO: => Training Epoch 1\n",
      "[ 2020-07-25 14:55:13,028 - tensorclan.trainer.gpu_trainer ] INFO: loss: 0.25007048016513334, accuracy: 92.375\n",
      "[ 2020-07-25 14:55:13,029 - tensorclan.trainer.gpu_trainer ] INFO: => Testing Epoch 1\n",
      "[ 2020-07-25 14:55:13,738 - tensorclan.trainer.gpu_trainer ] INFO: loss: 0.15032114984491204 accuracy: 95.33\n",
      "[ 2020-07-25 14:55:13,741 - tensorclan.trainer.gpu_trainer ] INFO: => LR was set to 0.27662812944992055\n",
      "[ 2020-07-25 14:55:13,741 - tensorclan.trainer.gpu_trainer ] INFO: => Training Epoch 2\n",
      "[ 2020-07-25 14:55:18,686 - tensorclan.trainer.gpu_trainer ] INFO: loss: 0.10180994843655049, accuracy: 96.91833333333334\n",
      "[ 2020-07-25 14:55:18,688 - tensorclan.trainer.gpu_trainer ] INFO: => Testing Epoch 2\n",
      "[ 2020-07-25 14:55:19,433 - tensorclan.trainer.gpu_trainer ] INFO: loss: 0.031105101839462412 accuracy: 98.97\n"
     ]
    }
   ],
   "source": [
    "runner.start_train()"
   ],
   "metadata": {
    "collapsed": false,
    "pycharm": {
     "name": "#%%\n"
    }
   }
  },
  {
   "cell_type": "code",
   "execution_count": null,
   "outputs": [],
   "source": [
    "\n"
   ],
   "metadata": {
    "collapsed": false,
    "pycharm": {
     "name": "#%%\n"
    }
   }
  }
 ],
 "metadata": {
  "kernelspec": {
   "name": "pycharm-1b12d3ba",
   "language": "python",
   "display_name": "PyCharm (TheTensorClan)"
  },
  "language_info": {
   "codemirror_mode": {
    "name": "ipython",
    "version": 2
   },
   "file_extension": ".py",
   "mimetype": "text/x-python",
   "name": "python",
   "nbconvert_exporter": "python",
   "pygments_lexer": "ipython2",
   "version": "2.7.6"
  }
 },
 "nbformat": 4,
 "nbformat_minor": 0
}