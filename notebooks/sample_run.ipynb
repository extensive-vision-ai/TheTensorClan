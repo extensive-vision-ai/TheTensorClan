{
 "cells": [
  {
   "cell_type": "code",
   "execution_count": 1,
   "outputs": [],
   "source": [
    "import sys\n",
    "sys.path.insert(0, '../')"
   ],
   "metadata": {
    "collapsed": false,
    "pycharm": {
     "name": "#%%\n"
    }
   }
  },
  {
   "cell_type": "code",
   "execution_count": 2,
   "outputs": [],
   "source": [
    "import tensorclan\n",
    "import tensorclan.utils as tc_utils\n",
    "import tensorclan.runner as tc_runner"
   ],
   "metadata": {
    "collapsed": false,
    "pycharm": {
     "name": "#%%\n"
    }
   }
  },
  {
   "cell_type": "code",
   "execution_count": 3,
   "outputs": [],
   "source": [
    "config = tc_utils.load_config('../experiments/example.yaml')"
   ],
   "metadata": {
    "collapsed": false,
    "pycharm": {
     "name": "#%%\n"
    }
   }
  },
  {
   "cell_type": "code",
   "execution_count": 4,
   "outputs": [
    {
     "name": "stdout",
     "output_type": "stream",
     "text": [
      "[ 2020-07-24 16:34:15,510 - tensorclan.runner.runner ] INFO: => Now simply setup_train and then start_train your model\n"
     ]
    }
   ],
   "source": [
    "runner = tc_runner.Runner(config=config)"
   ],
   "metadata": {
    "collapsed": false,
    "pycharm": {
     "name": "#%%\n"
    }
   }
  },
  {
   "cell_type": "code",
   "execution_count": 5,
   "outputs": [
    {
     "name": "stdout",
     "output_type": "stream",
     "text": [
      "[ 2020-07-24 16:34:15,534 - tensorclan.runner.runner ] INFO: => Config\n",
      "[ 2020-07-24 16:34:15,537 - tensorclan.runner.runner ] INFO: {'chkpt_dir': 'checkpoint',\n",
      "[ 2020-07-24 16:34:15,539 - tensorclan.runner.runner ] INFO:  'dataset': {'loader_args': {'batch_size': 128,\n",
      "[ 2020-07-24 16:34:15,541 - tensorclan.runner.runner ] INFO:                              'num_workers': 2,\n",
      "[ 2020-07-24 16:34:15,542 - tensorclan.runner.runner ] INFO:                              'pin_memory': True,\n",
      "[ 2020-07-24 16:34:15,544 - tensorclan.runner.runner ] INFO:                              'shuffle': True},\n",
      "[ 2020-07-24 16:34:15,546 - tensorclan.runner.runner ] INFO:              'name': 'MNIST',\n",
      "[ 2020-07-24 16:34:15,547 - tensorclan.runner.runner ] INFO:              'root': 'data',\n",
      "[ 2020-07-24 16:34:15,549 - tensorclan.runner.runner ] INFO:              'transforms': 'MNISTTransforms'},\n",
      "[ 2020-07-24 16:34:15,550 - tensorclan.runner.runner ] INFO:  'device': 'GPU',\n",
      "[ 2020-07-24 16:34:15,552 - tensorclan.runner.runner ] INFO:  'log_dir': 'logs',\n",
      "[ 2020-07-24 16:34:15,554 - tensorclan.runner.runner ] INFO:  'loss': 'CrossEntropyLoss',\n",
      "[ 2020-07-24 16:34:15,556 - tensorclan.runner.runner ] INFO:  'lr_scheduler': {'args': {'max_lr': 0.6}, 'type': 'OneCycleLR'},\n",
      "[ 2020-07-24 16:34:15,558 - tensorclan.runner.runner ] INFO:  'model': {'name': 'MNISTV1'},\n",
      "[ 2020-07-24 16:34:15,559 - tensorclan.runner.runner ] INFO:  'name': 'TTC_EXAMPLE',\n",
      "[ 2020-07-24 16:34:15,560 - tensorclan.runner.runner ] INFO:  'optimizer': {'args': {'lr': 0.01}, 'type': 'AdamW'},\n",
      "[ 2020-07-24 16:34:15,561 - tensorclan.runner.runner ] INFO:  'training': {'epochs': 3},\n",
      "[ 2020-07-24 16:34:15,563 - tensorclan.runner.runner ] INFO:  'use_checkpoints': False}\n",
      "[ 2020-07-24 16:34:15,564 - tensorclan.utils.config ] INFO: Building tensorclan.dataset.augmentation.MNISTTransforms\n",
      "[ 2020-07-24 16:34:15,566 - tensorclan.utils.config ] INFO: Building tensorclan.dataset.zoo.MNIST\n",
      "[ 2020-07-24 16:34:15,607 - tensorclan.utils.config ] INFO: Building tensorclan.model.zoo.MNISTV1\n",
      "[ 2020-07-24 16:34:15,611 - tensorclan.utils.config ] INFO: Building torch.optim.AdamW\n",
      "[ 2020-07-24 16:34:15,612 - tensorclan.utils.config ] INFO: Building torch.nn.CrossEntropyLoss\n",
      "[ 2020-07-24 16:34:15,612 - tensorclan.utils.config ] INFO: Building tensorclan.trainer.GPUTrainer\n",
      "[ 2020-07-24 16:34:15,618 - tensorclan.utils.config ] INFO: Building torch.utils.data.DataLoader\n",
      "[ 2020-07-24 16:34:15,619 - tensorclan.utils.config ] INFO: Building torch.utils.data.DataLoader\n",
      "[ 2020-07-24 16:34:15,619 - tensorclan.utils.config ] INFO: Building torch.optim.lr_scheduler.OneCycleLR\n"
     ]
    }
   ],
   "source": [
    "runner.setup_train()"
   ],
   "metadata": {
    "collapsed": false,
    "pycharm": {
     "name": "#%%\n"
    }
   }
  },
  {
   "cell_type": "code",
   "execution_count": 6,
   "outputs": [
    {
     "name": "stdout",
     "output_type": "stream",
     "text": [
      "[ 2020-07-24 16:34:17,265 - tensorclan.trainer.gpu_trainer ] INFO: => Training Started\n",
      "[ 2020-07-24 16:34:17,266 - tensorclan.trainer.gpu_trainer ] INFO: Training the model for 3 epochs\n",
      "[ 2020-07-24 16:34:17,267 - tensorclan.trainer.gpu_trainer ] INFO: => LR was set to 0.02400000000000002\n",
      "[ 2020-07-24 16:34:17,267 - tensorclan.trainer.gpu_trainer ] INFO: => Training Epoch 0\n",
      "[ 2020-07-24 16:34:24,925 - tensorclan.trainer.gpu_trainer ] INFO: loss: 0.5596951552863314, accuracy: 83.52\n",
      "[ 2020-07-24 16:34:24,927 - tensorclan.trainer.gpu_trainer ] INFO: => Testing Epoch 0\n",
      "[ 2020-07-24 16:34:25,729 - tensorclan.trainer.gpu_trainer ] INFO: loss: 7.608950138092041 accuracy: 39.8\n",
      "[ 2020-07-24 16:34:25,731 - tensorclan.trainer.gpu_trainer ] INFO: => LR was set to 0.5965051303247655\n",
      "[ 2020-07-24 16:34:25,732 - tensorclan.trainer.gpu_trainer ] INFO: => Training Epoch 1\n",
      "[ 2020-07-24 16:34:30,768 - tensorclan.trainer.gpu_trainer ] INFO: loss: 0.2846525037434818, accuracy: 91.98833333333333\n",
      "[ 2020-07-24 16:34:30,769 - tensorclan.trainer.gpu_trainer ] INFO: => Testing Epoch 1\n",
      "[ 2020-07-24 16:34:31,581 - tensorclan.trainer.gpu_trainer ] INFO: loss: 0.15057798121360283 accuracy: 95.38\n",
      "[ 2020-07-24 16:34:31,583 - tensorclan.trainer.gpu_trainer ] INFO: => LR was set to 0.27662812944992055\n",
      "[ 2020-07-24 16:34:31,584 - tensorclan.trainer.gpu_trainer ] INFO: => Training Epoch 2\n",
      "[ 2020-07-24 16:34:36,582 - tensorclan.trainer.gpu_trainer ] INFO: loss: 0.09286261135652693, accuracy: 97.21666666666667\n",
      "[ 2020-07-24 16:34:36,584 - tensorclan.trainer.gpu_trainer ] INFO: => Testing Epoch 2\n",
      "[ 2020-07-24 16:34:37,370 - tensorclan.trainer.gpu_trainer ] INFO: loss: 0.031225010281122182 accuracy: 98.9\n"
     ]
    }
   ],
   "source": [
    "runner.start_train()"
   ],
   "metadata": {
    "collapsed": false,
    "pycharm": {
     "name": "#%%\n"
    }
   }
  },
  {
   "cell_type": "code",
   "execution_count": null,
   "outputs": [],
   "source": [
    "\n"
   ],
   "metadata": {
    "collapsed": false,
    "pycharm": {
     "name": "#%%\n"
    }
   }
  }
 ],
 "metadata": {
  "kernelspec": {
   "display_name": "Python 3",
   "language": "python",
   "name": "python3"
  },
  "language_info": {
   "codemirror_mode": {
    "name": "ipython",
    "version": 2
   },
   "file_extension": ".py",
   "mimetype": "text/x-python",
   "name": "python",
   "nbconvert_exporter": "python",
   "pygments_lexer": "ipython2",
   "version": "2.7.6"
  }
 },
 "nbformat": 4,
 "nbformat_minor": 0
}